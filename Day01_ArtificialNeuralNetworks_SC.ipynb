{
 "cells": [
  {
   "cell_type": "markdown",
   "metadata": {},
   "source": [
    "<img src=\"./images/cads-logo.png\" style=\"height: 100px;\" align=left> \n",
    "<img src=\"./images/tf-logo-2.png\" style=\"height: 70px;\" align=right>\n",
    "<img src=\"./images/keras-logo.png\" style=\"height: 50px;\" align=right>"
   ]
  },
  {
   "cell_type": "markdown",
   "metadata": {},
   "source": [
    "# Artificial Neural Networks"
   ]
  },
  {
   "cell_type": "markdown",
   "metadata": {},
   "source": [
    "**Pre-requisites:**\n",
    "\n",
    "1. Python and Pandas Proficiency \n",
    "2. Supervised Machine Learning\n",
    "3. Basic Matrix Operations\n",
    "4. Linear Alegbra, Calculus\n"
   ]
  },
  {
   "cell_type": "markdown",
   "metadata": {},
   "source": [
    "## Course Outline\n",
    "\n",
    "1. [Introduction](#1.-Introduction) <br>\n",
    "1. [Churn Prediction Problem](#2.-Churn-Prediction-Problem) <br>\n",
    "1. [Components of Artificial Neural Networks](#3.-Components-of-Artificial-Neural-Networks) <br>\n",
    "1. [Artificial Neural Networks Architecture](#4.-Artificial-Neural-Networks-Architecture) <br>\n",
    "1. [Improving Neural Network Performance](#5.-Improving-Neural-Network-Performance)\n"
   ]
  },
  {
   "cell_type": "code",
   "execution_count": 8,
   "metadata": {},
   "outputs": [
    {
     "name": "stdout",
     "output_type": "stream",
     "text": [
      "Requirement already satisfied: pip in c:\\users\\user\\appdata\\local\\programs\\python\\python39\\lib\\site-packages (21.2.4)\n",
      "Requirement already satisfied: numpy in c:\\users\\user\\appdata\\local\\programs\\python\\python39\\lib\\site-packages (1.19.5)\n",
      "Collecting numpy\n",
      "  Using cached numpy-1.21.2-cp39-cp39-win_amd64.whl (14.0 MB)\n",
      "Installing collected packages: numpy\n",
      "  Attempting uninstall: numpy\n",
      "    Found existing installation: numpy 1.19.5\n",
      "    Uninstalling numpy-1.19.5:\n",
      "      Successfully uninstalled numpy-1.19.5\n",
      "Successfully installed numpy-1.21.2\n",
      "Requirement already satisfied: sklearn in c:\\users\\user\\appdata\\local\\programs\\python\\python39\\lib\\site-packages (0.0)\n",
      "Requirement already satisfied: scikit-learn in c:\\users\\user\\appdata\\local\\programs\\python\\python39\\lib\\site-packages (from sklearn) (0.24.2)\n",
      "Requirement already satisfied: threadpoolctl>=2.0.0 in c:\\users\\user\\appdata\\local\\programs\\python\\python39\\lib\\site-packages (from scikit-learn->sklearn) (2.2.0)\n",
      "Requirement already satisfied: scipy>=0.19.1 in c:\\users\\user\\appdata\\local\\programs\\python\\python39\\lib\\site-packages (from scikit-learn->sklearn) (1.7.1)\n",
      "Requirement already satisfied: numpy>=1.13.3 in c:\\users\\user\\appdata\\local\\programs\\python\\python39\\lib\\site-packages (from scikit-learn->sklearn) (1.21.2)\n",
      "Requirement already satisfied: joblib>=0.11 in c:\\users\\user\\appdata\\local\\programs\\python\\python39\\lib\\site-packages (from scikit-learn->sklearn) (1.0.1)\n",
      "Requirement already satisfied: seaborn in c:\\users\\user\\appdata\\local\\programs\\python\\python39\\lib\\site-packages (0.11.2)\n",
      "Requirement already satisfied: numpy>=1.15 in c:\\users\\user\\appdata\\local\\programs\\python\\python39\\lib\\site-packages (from seaborn) (1.21.2)\n",
      "Requirement already satisfied: pandas>=0.23 in c:\\users\\user\\appdata\\local\\programs\\python\\python39\\lib\\site-packages (from seaborn) (1.3.2)\n",
      "Requirement already satisfied: scipy>=1.0 in c:\\users\\user\\appdata\\local\\programs\\python\\python39\\lib\\site-packages (from seaborn) (1.7.1)\n",
      "Requirement already satisfied: matplotlib>=2.2 in c:\\users\\user\\appdata\\local\\programs\\python\\python39\\lib\\site-packages (from seaborn) (3.4.3)\n",
      "Requirement already satisfied: python-dateutil>=2.7 in c:\\users\\user\\appdata\\local\\programs\\python\\python39\\lib\\site-packages (from matplotlib>=2.2->seaborn) (2.8.2)\n",
      "Requirement already satisfied: pyparsing>=2.2.1 in c:\\users\\user\\appdata\\local\\programs\\python\\python39\\lib\\site-packages (from matplotlib>=2.2->seaborn) (2.4.7)\n",
      "Requirement already satisfied: cycler>=0.10 in c:\\users\\user\\appdata\\local\\programs\\python\\python39\\lib\\site-packages (from matplotlib>=2.2->seaborn) (0.10.0)\n",
      "Requirement already satisfied: pillow>=6.2.0 in c:\\users\\user\\appdata\\local\\programs\\python\\python39\\lib\\site-packages (from matplotlib>=2.2->seaborn) (8.3.1)\n",
      "Requirement already satisfied: kiwisolver>=1.0.1 in c:\\users\\user\\appdata\\local\\programs\\python\\python39\\lib\\site-packages (from matplotlib>=2.2->seaborn) (1.3.1)\n",
      "Requirement already satisfied: six in c:\\users\\user\\appdata\\local\\programs\\python\\python39\\lib\\site-packages (from cycler>=0.10->matplotlib>=2.2->seaborn) (1.15.0)\n",
      "Requirement already satisfied: pytz>=2017.3 in c:\\users\\user\\appdata\\local\\programs\\python\\python39\\lib\\site-packages (from pandas>=0.23->seaborn) (2021.1)\n",
      "Collecting tensorflow\n",
      "  Using cached tensorflow-2.6.0-cp39-cp39-win_amd64.whl (423.3 MB)\n",
      "Collecting opt-einsum~=3.3.0\n",
      "  Using cached opt_einsum-3.3.0-py3-none-any.whl (65 kB)\n",
      "Collecting google-pasta~=0.2\n",
      "  Using cached google_pasta-0.2.0-py3-none-any.whl (57 kB)\n",
      "Requirement already satisfied: wheel~=0.35 in c:\\users\\user\\appdata\\local\\programs\\python\\python39\\lib\\site-packages (from tensorflow) (0.37.0)\n",
      "Requirement already satisfied: six~=1.15.0 in c:\\users\\user\\appdata\\local\\programs\\python\\python39\\lib\\site-packages (from tensorflow) (1.15.0)\n",
      "Collecting tensorflow-estimator~=2.6\n",
      "  Using cached tensorflow_estimator-2.6.0-py2.py3-none-any.whl (462 kB)\n",
      "Collecting astunparse~=1.6.3\n",
      "  Using cached astunparse-1.6.3-py2.py3-none-any.whl (12 kB)\n",
      "Collecting typing-extensions~=3.7.4\n",
      "  Using cached typing_extensions-3.7.4.3-py3-none-any.whl (22 kB)\n",
      "Requirement already satisfied: protobuf>=3.9.2 in c:\\users\\user\\appdata\\local\\programs\\python\\python39\\lib\\site-packages (from tensorflow) (3.17.3)\n",
      "Collecting clang~=5.0\n",
      "  Using cached clang-5.0.tar.gz (30 kB)\n",
      "Collecting keras-preprocessing~=1.1.2\n",
      "  Using cached Keras_Preprocessing-1.1.2-py2.py3-none-any.whl (42 kB)\n",
      "Collecting absl-py~=0.10\n",
      "  Using cached absl_py-0.13.0-py3-none-any.whl (132 kB)\n",
      "Collecting termcolor~=1.1.0\n",
      "  Using cached termcolor-1.1.0.tar.gz (3.9 kB)\n",
      "Collecting flatbuffers~=1.12.0\n",
      "  Using cached flatbuffers-1.12-py2.py3-none-any.whl (15 kB)\n",
      "Collecting gast==0.4.0\n",
      "  Using cached gast-0.4.0-py3-none-any.whl (9.8 kB)\n",
      "Collecting keras~=2.6\n",
      "  Using cached keras-2.6.0-py2.py3-none-any.whl (1.3 MB)\n",
      "Collecting h5py~=3.1.0\n",
      "  Using cached h5py-3.1.0-cp39-cp39-win_amd64.whl (2.7 MB)\n",
      "Collecting grpcio<2.0,>=1.37.0\n",
      "  Using cached grpcio-1.40.0-cp39-cp39-win_amd64.whl (3.2 MB)\n",
      "Collecting numpy~=1.19.2\n",
      "  Using cached numpy-1.19.5-cp39-cp39-win_amd64.whl (13.3 MB)\n",
      "Collecting wrapt~=1.12.1\n",
      "  Using cached wrapt-1.12.1.tar.gz (27 kB)\n",
      "Collecting tensorboard~=2.6\n",
      "  Using cached tensorboard-2.6.0-py3-none-any.whl (5.6 MB)\n",
      "Requirement already satisfied: google-auth<2,>=1.6.3 in c:\\users\\user\\appdata\\local\\programs\\python\\python39\\lib\\site-packages (from tensorboard~=2.6->tensorflow) (1.35.0)\n",
      "Requirement already satisfied: requests<3,>=2.21.0 in c:\\users\\user\\appdata\\local\\programs\\python\\python39\\lib\\site-packages (from tensorboard~=2.6->tensorflow) (2.26.0)\n",
      "Requirement already satisfied: tensorboard-data-server<0.7.0,>=0.6.0 in c:\\users\\user\\appdata\\local\\programs\\python\\python39\\lib\\site-packages (from tensorboard~=2.6->tensorflow) (0.6.1)\n",
      "Requirement already satisfied: setuptools>=41.0.0 in c:\\users\\user\\appdata\\local\\programs\\python\\python39\\lib\\site-packages (from tensorboard~=2.6->tensorflow) (56.0.0)\n",
      "Collecting google-auth-oauthlib<0.5,>=0.4.1\n",
      "  Using cached google_auth_oauthlib-0.4.6-py2.py3-none-any.whl (18 kB)\n",
      "Requirement already satisfied: werkzeug>=0.11.15 in c:\\users\\user\\appdata\\local\\programs\\python\\python39\\lib\\site-packages (from tensorboard~=2.6->tensorflow) (2.0.1)\n",
      "Collecting markdown>=2.6.8\n",
      "  Using cached Markdown-3.3.4-py3-none-any.whl (97 kB)\n",
      "Requirement already satisfied: tensorboard-plugin-wit>=1.6.0 in c:\\users\\user\\appdata\\local\\programs\\python\\python39\\lib\\site-packages (from tensorboard~=2.6->tensorflow) (1.8.0)\n",
      "Requirement already satisfied: pyasn1-modules>=0.2.1 in c:\\users\\user\\appdata\\local\\programs\\python\\python39\\lib\\site-packages (from google-auth<2,>=1.6.3->tensorboard~=2.6->tensorflow) (0.2.8)\n",
      "Requirement already satisfied: cachetools<5.0,>=2.0.0 in c:\\users\\user\\appdata\\local\\programs\\python\\python39\\lib\\site-packages (from google-auth<2,>=1.6.3->tensorboard~=2.6->tensorflow) (4.2.2)\n",
      "Requirement already satisfied: rsa<5,>=3.1.4 in c:\\users\\user\\appdata\\local\\programs\\python\\python39\\lib\\site-packages (from google-auth<2,>=1.6.3->tensorboard~=2.6->tensorflow) (4.7.2)\n",
      "Requirement already satisfied: requests-oauthlib>=0.7.0 in c:\\users\\user\\appdata\\local\\programs\\python\\python39\\lib\\site-packages (from google-auth-oauthlib<0.5,>=0.4.1->tensorboard~=2.6->tensorflow) (1.3.0)\n",
      "Requirement already satisfied: pyasn1<0.5.0,>=0.4.6 in c:\\users\\user\\appdata\\local\\programs\\python\\python39\\lib\\site-packages (from pyasn1-modules>=0.2.1->google-auth<2,>=1.6.3->tensorboard~=2.6->tensorflow) (0.4.8)\n",
      "Requirement already satisfied: certifi>=2017.4.17 in c:\\users\\user\\appdata\\local\\programs\\python\\python39\\lib\\site-packages (from requests<3,>=2.21.0->tensorboard~=2.6->tensorflow) (2021.5.30)\n",
      "Requirement already satisfied: charset-normalizer~=2.0.0 in c:\\users\\user\\appdata\\local\\programs\\python\\python39\\lib\\site-packages (from requests<3,>=2.21.0->tensorboard~=2.6->tensorflow) (2.0.4)\n",
      "Requirement already satisfied: idna<4,>=2.5 in c:\\users\\user\\appdata\\local\\programs\\python\\python39\\lib\\site-packages (from requests<3,>=2.21.0->tensorboard~=2.6->tensorflow) (3.2)\n",
      "Requirement already satisfied: urllib3<1.27,>=1.21.1 in c:\\users\\user\\appdata\\local\\programs\\python\\python39\\lib\\site-packages (from requests<3,>=2.21.0->tensorboard~=2.6->tensorflow) (1.26.6)\n",
      "Requirement already satisfied: oauthlib>=3.0.0 in c:\\users\\user\\appdata\\local\\programs\\python\\python39\\lib\\site-packages (from requests-oauthlib>=0.7.0->google-auth-oauthlib<0.5,>=0.4.1->tensorboard~=2.6->tensorflow) (3.1.1)\n",
      "Building wheels for collected packages: clang, termcolor, wrapt\n",
      "  Building wheel for clang (setup.py): started\n",
      "  Building wheel for clang (setup.py): finished with status 'done'\n",
      "  Created wheel for clang: filename=clang-5.0-py3-none-any.whl size=30703 sha256=af88346511316bd3f9e625815c0e02304309bfca40dad38a42216aa7a610035a\n",
      "  Stored in directory: c:\\users\\user\\appdata\\local\\pip\\cache\\wheels\\3a\\ce\\7a\\27094f689461801c934296d07078773603663dfcaca63bb064\n",
      "  Building wheel for termcolor (setup.py): started\n",
      "  Building wheel for termcolor (setup.py): finished with status 'done'\n",
      "  Created wheel for termcolor: filename=termcolor-1.1.0-py3-none-any.whl size=4829 sha256=504d71ae551130e2052b1a369207ac4a1e7bee53ea2155001452773d90c26652\n",
      "  Stored in directory: c:\\users\\user\\appdata\\local\\pip\\cache\\wheels\\b6\\0d\\90\\0d1bbd99855f99cb2f6c2e5ff96f8023fad8ec367695f7d72d\n",
      "  Building wheel for wrapt (setup.py): started\n",
      "  Building wheel for wrapt (setup.py): finished with status 'done'\n",
      "  Created wheel for wrapt: filename=wrapt-1.12.1-py3-none-any.whl size=19553 sha256=c7d570e00c7f47c58363a464a604fc437a9e9674c397a311fd03a72acbe43115\n",
      "  Stored in directory: c:\\users\\user\\appdata\\local\\pip\\cache\\wheels\\98\\23\\68\\efe259aaca055e93b08e74fbe512819c69a2155c11ba3c0f10\n",
      "Successfully built clang termcolor wrapt\n",
      "Installing collected packages: numpy, markdown, grpcio, google-auth-oauthlib, absl-py, wrapt, typing-extensions, termcolor, tensorflow-estimator, tensorboard, opt-einsum, keras-preprocessing, keras, h5py, google-pasta, gast, flatbuffers, clang, astunparse, tensorflow\n",
      "  Attempting uninstall: numpy\n",
      "    Found existing installation: numpy 1.21.2\n",
      "    Uninstalling numpy-1.21.2:\n",
      "      Successfully uninstalled numpy-1.21.2\n",
      "Successfully installed absl-py-0.13.0 astunparse-1.6.3 clang-5.0 flatbuffers-1.12 gast-0.4.0 google-auth-oauthlib-0.4.6 google-pasta-0.2.0 grpcio-1.40.0 h5py-3.1.0 keras-2.6.0 keras-preprocessing-1.1.2 markdown-3.3.4 numpy-1.19.5 opt-einsum-3.3.0 tensorboard-2.6.0 tensorflow-2.6.0 tensorflow-estimator-2.6.0 termcolor-1.1.0 typing-extensions-3.7.4.3 wrapt-1.12.1\n"
     ]
    },
    {
     "name": "stderr",
     "output_type": "stream",
     "text": [
      "  WARNING: Built wheel for tensorflow-docs is invalid: Metadata 1.2 mandates PEP 440 version, but '0.0.08c628cf4c26ea0e700e6ca651c62f4cafe4faa83-' is not\n",
      "  DEPRECATION: tensorflow-docs was installed using the legacy 'setup.py install' method, because a wheel could not be built for it. A possible replacement is to fix the wheel build issue reported above. You can find discussion regarding this at https://github.com/pypa/pip/issues/8368.\n"
     ]
    }
   ],
   "source": [
    "!pip install --upgrade pip\n",
    "!pip install --upgrade numpy\n",
    "!pip install sklearn\n",
    "!pip install seaborn\n",
    "!pip install tensorflow\n",
    "!pip install -q git+https://github.com/tensorflow/docs"
   ]
  },
  {
   "cell_type": "code",
   "execution_count": 9,
   "metadata": {},
   "outputs": [],
   "source": [
    "%load_ext tensorboard"
   ]
  },
  {
   "cell_type": "code",
   "execution_count": 10,
   "metadata": {},
   "outputs": [],
   "source": [
    "%matplotlib inline"
   ]
  },
  {
   "cell_type": "markdown",
   "metadata": {},
   "source": [
    "# 1. Introduction\n"
   ]
  },
  {
   "cell_type": "markdown",
   "metadata": {},
   "source": [
    "The pursuit of **thinking machines**  having **human-like general intelligence** begun from 1943's Electronic Brain and dawned on 1969's XOR Problem. A new wave of interest in  Artificial Intelligence was seen in 1986 through the **Multi-layered Perceptron** employing **Backpropagation**, following the two-decade of *AI Winter*. (The people responsible for this are called *Backpropagandists*). To date, humanity enjoys various applications of Deep Learning as it became a niche for several groups of scientists, engineers, and ethusiasts. \n",
    "\n",
    "- Near-human-level image classification, speech recognition, handwriting transcription\n",
    "- Improved machine translation, text-to-speech conversion\n",
    "- Digital assistants such as Google Now and Amazon Alexa\n",
    "- Near-human-level autonomous driving\n",
    "- Improved ad targeting, as used by Google, Baidu, and Bing \n",
    "- Improved search results on the web\n",
    "- Ability to answer natural-language questions\n",
    "- Superhuman Go playing\n",
    "\n",
    "Deep Learning was made possible by the increase in scale of the following technical forces: \n",
    "\n",
    "- **Hardware**: increase of computing power\n",
    "- **Datasets** and **Benchmarks**: increase in data volume and well-thought benchmarks\n",
    "- **Algorithms**: parallel and high-performace computing"
   ]
  },
  {
   "cell_type": "markdown",
   "metadata": {},
   "source": [
    "# 2. Churn Prediction Problem"
   ]
  },
  {
   "cell_type": "markdown",
   "metadata": {},
   "source": [
    "Before going into the detail of an artificial neural network  mechanisms, let's construct a model that will predict if the cutomer churned (`1`)  or is retained (`0`) `./data/churn.csv`."
   ]
  },
  {
   "cell_type": "code",
   "execution_count": 11,
   "metadata": {},
   "outputs": [],
   "source": [
    "# Question : Which type of machine learning technique should we employ to solve the problem above?\n",
    "\n",
    "# SC\n",
    "\n"
   ]
  },
  {
   "cell_type": "code",
   "execution_count": 12,
   "metadata": {},
   "outputs": [
    {
     "name": "stdout",
     "output_type": "stream",
     "text": [
      "2.6.0\n"
     ]
    }
   ],
   "source": [
    "import functools\n",
    "\n",
    "import numpy as np\n",
    "np.random.seed(42)\n",
    "\n",
    "import os\n",
    "import tempfile\n",
    "import datetime\n",
    "import pandas as pd\n",
    "import seaborn as sns\n",
    "import matplotlib.pyplot as plt\n",
    "plt.rcParams['figure.figsize'] = (8, 6)\n",
    "colors = plt.rcParams['axes.prop_cycle'].by_key()['color']\n",
    "\n",
    "from plot_utils import compareValLoss, compareValAcc, plot_metrics, plot_cm, plot_roc\n",
    "\n",
    "import sklearn\n",
    "from sklearn.linear_model import LogisticRegression\n",
    "from sklearn.model_selection import train_test_split\n",
    "from sklearn.preprocessing import StandardScaler\n",
    "from sklearn.metrics import roc_auc_score\n",
    "from sklearn.metrics import roc_curve\n",
    "from sklearn.metrics import confusion_matrix\n",
    "\n",
    "import tensorflow as tf\n",
    "from tensorflow import keras\n",
    "from tensorflow.keras import layers, regularizers\n",
    "import tensorflow_docs as tfdocs\n",
    "import tensorflow_docs.plots\n",
    "import tensorflow_docs.modeling\n",
    "\n",
    "print(tf.__version__)"
   ]
  },
  {
   "cell_type": "code",
   "execution_count": 13,
   "metadata": {},
   "outputs": [],
   "source": [
    "# Load dataset\n",
    "data_path = './data/churn.csv'\n",
    "data = pd.read_csv(data_path)"
   ]
  },
  {
   "cell_type": "code",
   "execution_count": 14,
   "metadata": {},
   "outputs": [
    {
     "data": {
      "text/plain": [
       "RowNumber            int64\n",
       "CustomerId           int64\n",
       "Surname             object\n",
       "CreditScore          int64\n",
       "Geography           object\n",
       "Gender              object\n",
       "Age                  int64\n",
       "Tenure               int64\n",
       "Balance            float64\n",
       "NumOfProducts        int64\n",
       "HasCrCard            int64\n",
       "IsActiveMember       int64\n",
       "EstimatedSalary    float64\n",
       "Exited               int64\n",
       "dtype: object"
      ]
     },
     "execution_count": 14,
     "metadata": {},
     "output_type": "execute_result"
    }
   ],
   "source": [
    "# Identify datatypes\n",
    "data.dtypes"
   ]
  },
  {
   "cell_type": "code",
   "execution_count": 15,
   "metadata": {
    "scrolled": true
   },
   "outputs": [
    {
     "data": {
      "text/plain": [
       "array(['France', 'Spain', 'Germany'], dtype=object)"
      ]
     },
     "execution_count": 15,
     "metadata": {},
     "output_type": "execute_result"
    }
   ],
   "source": [
    "# Identify unique values in data.Geography\n",
    "data.Geography.unique()"
   ]
  },
  {
   "cell_type": "code",
   "execution_count": 35,
   "metadata": {},
   "outputs": [
    {
     "data": {
      "text/html": [
       "<div>\n",
       "<style scoped>\n",
       "    .dataframe tbody tr th:only-of-type {\n",
       "        vertical-align: middle;\n",
       "    }\n",
       "\n",
       "    .dataframe tbody tr th {\n",
       "        vertical-align: top;\n",
       "    }\n",
       "\n",
       "    .dataframe thead th {\n",
       "        text-align: right;\n",
       "    }\n",
       "</style>\n",
       "<table border=\"1\" class=\"dataframe\">\n",
       "  <thead>\n",
       "    <tr style=\"text-align: right;\">\n",
       "      <th></th>\n",
       "      <th>CreditScore</th>\n",
       "      <th>Gender</th>\n",
       "      <th>Age</th>\n",
       "      <th>Tenure</th>\n",
       "      <th>Balance</th>\n",
       "      <th>NumOfProducts</th>\n",
       "      <th>HasCrCard</th>\n",
       "      <th>IsActiveMember</th>\n",
       "      <th>EstimatedSalary</th>\n",
       "      <th>Exited</th>\n",
       "      <th>_France</th>\n",
       "      <th>_Germany</th>\n",
       "      <th>_Spain</th>\n",
       "    </tr>\n",
       "  </thead>\n",
       "  <tbody>\n",
       "    <tr>\n",
       "      <th>0</th>\n",
       "      <td>619</td>\n",
       "      <td>0</td>\n",
       "      <td>42</td>\n",
       "      <td>2</td>\n",
       "      <td>0.00</td>\n",
       "      <td>1</td>\n",
       "      <td>1</td>\n",
       "      <td>1</td>\n",
       "      <td>101348.88</td>\n",
       "      <td>1</td>\n",
       "      <td>1</td>\n",
       "      <td>0</td>\n",
       "      <td>0</td>\n",
       "    </tr>\n",
       "    <tr>\n",
       "      <th>1</th>\n",
       "      <td>608</td>\n",
       "      <td>0</td>\n",
       "      <td>41</td>\n",
       "      <td>1</td>\n",
       "      <td>83807.86</td>\n",
       "      <td>1</td>\n",
       "      <td>0</td>\n",
       "      <td>1</td>\n",
       "      <td>112542.58</td>\n",
       "      <td>0</td>\n",
       "      <td>0</td>\n",
       "      <td>0</td>\n",
       "      <td>1</td>\n",
       "    </tr>\n",
       "    <tr>\n",
       "      <th>2</th>\n",
       "      <td>502</td>\n",
       "      <td>0</td>\n",
       "      <td>42</td>\n",
       "      <td>8</td>\n",
       "      <td>159660.80</td>\n",
       "      <td>3</td>\n",
       "      <td>1</td>\n",
       "      <td>0</td>\n",
       "      <td>113931.57</td>\n",
       "      <td>1</td>\n",
       "      <td>1</td>\n",
       "      <td>0</td>\n",
       "      <td>0</td>\n",
       "    </tr>\n",
       "    <tr>\n",
       "      <th>3</th>\n",
       "      <td>699</td>\n",
       "      <td>0</td>\n",
       "      <td>39</td>\n",
       "      <td>1</td>\n",
       "      <td>0.00</td>\n",
       "      <td>2</td>\n",
       "      <td>0</td>\n",
       "      <td>0</td>\n",
       "      <td>93826.63</td>\n",
       "      <td>0</td>\n",
       "      <td>1</td>\n",
       "      <td>0</td>\n",
       "      <td>0</td>\n",
       "    </tr>\n",
       "    <tr>\n",
       "      <th>4</th>\n",
       "      <td>850</td>\n",
       "      <td>0</td>\n",
       "      <td>43</td>\n",
       "      <td>2</td>\n",
       "      <td>125510.82</td>\n",
       "      <td>1</td>\n",
       "      <td>1</td>\n",
       "      <td>1</td>\n",
       "      <td>79084.10</td>\n",
       "      <td>0</td>\n",
       "      <td>0</td>\n",
       "      <td>0</td>\n",
       "      <td>1</td>\n",
       "    </tr>\n",
       "  </tbody>\n",
       "</table>\n",
       "</div>"
      ],
      "text/plain": [
       "   CreditScore  Gender  Age  Tenure    Balance  NumOfProducts  HasCrCard  \\\n",
       "0          619       0   42       2       0.00              1          1   \n",
       "1          608       0   41       1   83807.86              1          0   \n",
       "2          502       0   42       8  159660.80              3          1   \n",
       "3          699       0   39       1       0.00              2          0   \n",
       "4          850       0   43       2  125510.82              1          1   \n",
       "\n",
       "   IsActiveMember  EstimatedSalary  Exited  _France  _Germany  _Spain  \n",
       "0               1        101348.88       1        1         0       0  \n",
       "1               1        112542.58       0        0         0       1  \n",
       "2               0        113931.57       1        1         0       0  \n",
       "3               0         93826.63       0        1         0       0  \n",
       "4               1         79084.10       0        0         0       1  "
      ]
     },
     "execution_count": 35,
     "metadata": {},
     "output_type": "execute_result"
    }
   ],
   "source": [
    "data.head()"
   ]
  },
  {
   "cell_type": "markdown",
   "metadata": {},
   "source": [
    "Notice that `Surname`, `Geography`, and `Gender` all have  **`object`** datatypes. These are **categorical** data in string format. We **drop** the  `RowNumber`, `CustomerID`, and `Surname`. We transfrom **`Geography`** and **`Gender`** entries to datatypes that are **readable** to an artificial neural network. Know that artificial neural networks are simply **mathematical functions** and are implemented in codes. `Gender` data, when converted to numerical form, becomes *binary* data. `Geography` on the other hand has cardinality of `3`. It should be one-hot encoded. \n",
    "\n",
    "Other categorical data are `HasCrCard` and `IsActiveMember`, although they are already in binary format. "
   ]
  },
  {
   "cell_type": "code",
   "execution_count": 45,
   "metadata": {},
   "outputs": [
    {
     "ename": "KeyError",
     "evalue": "\"['RowNumber' 'CustomerId' 'Surname'] not found in axis\"",
     "output_type": "error",
     "traceback": [
      "\u001b[1;31m---------------------------------------------------------------------------\u001b[0m",
      "\u001b[1;31mKeyError\u001b[0m                                  Traceback (most recent call last)",
      "\u001b[1;32m~\\AppData\\Local\\Temp/ipykernel_19840/1471289086.py\u001b[0m in \u001b[0;36m<module>\u001b[1;34m\u001b[0m\n\u001b[0;32m      1\u001b[0m \u001b[1;31m# Drop data.Surname\u001b[0m\u001b[1;33m\u001b[0m\u001b[1;33m\u001b[0m\u001b[1;33m\u001b[0m\u001b[0m\n\u001b[1;32m----> 2\u001b[1;33m \u001b[0mdata\u001b[0m \u001b[1;33m=\u001b[0m \u001b[0mdata\u001b[0m\u001b[1;33m.\u001b[0m\u001b[0mdrop\u001b[0m\u001b[1;33m(\u001b[0m\u001b[0mcolumns\u001b[0m\u001b[1;33m=\u001b[0m\u001b[1;33m[\u001b[0m\u001b[1;34m'RowNumber'\u001b[0m\u001b[1;33m,\u001b[0m\u001b[1;34m'CustomerId'\u001b[0m\u001b[1;33m,\u001b[0m\u001b[1;34m'Surname'\u001b[0m\u001b[1;33m]\u001b[0m\u001b[1;33m)\u001b[0m\u001b[1;33m\u001b[0m\u001b[1;33m\u001b[0m\u001b[0m\n\u001b[0m",
      "\u001b[1;32mc:\\users\\user\\appdata\\local\\programs\\python\\python39\\lib\\site-packages\\pandas\\util\\_decorators.py\u001b[0m in \u001b[0;36mwrapper\u001b[1;34m(*args, **kwargs)\u001b[0m\n\u001b[0;32m    309\u001b[0m                     \u001b[0mstacklevel\u001b[0m\u001b[1;33m=\u001b[0m\u001b[0mstacklevel\u001b[0m\u001b[1;33m,\u001b[0m\u001b[1;33m\u001b[0m\u001b[1;33m\u001b[0m\u001b[0m\n\u001b[0;32m    310\u001b[0m                 )\n\u001b[1;32m--> 311\u001b[1;33m             \u001b[1;32mreturn\u001b[0m \u001b[0mfunc\u001b[0m\u001b[1;33m(\u001b[0m\u001b[1;33m*\u001b[0m\u001b[0margs\u001b[0m\u001b[1;33m,\u001b[0m \u001b[1;33m**\u001b[0m\u001b[0mkwargs\u001b[0m\u001b[1;33m)\u001b[0m\u001b[1;33m\u001b[0m\u001b[1;33m\u001b[0m\u001b[0m\n\u001b[0m\u001b[0;32m    312\u001b[0m \u001b[1;33m\u001b[0m\u001b[0m\n\u001b[0;32m    313\u001b[0m         \u001b[1;32mreturn\u001b[0m \u001b[0mwrapper\u001b[0m\u001b[1;33m\u001b[0m\u001b[1;33m\u001b[0m\u001b[0m\n",
      "\u001b[1;32mc:\\users\\user\\appdata\\local\\programs\\python\\python39\\lib\\site-packages\\pandas\\core\\frame.py\u001b[0m in \u001b[0;36mdrop\u001b[1;34m(self, labels, axis, index, columns, level, inplace, errors)\u001b[0m\n\u001b[0;32m   4899\u001b[0m                 \u001b[0mweight\u001b[0m  \u001b[1;36m1.0\u001b[0m     \u001b[1;36m0.8\u001b[0m\u001b[1;33m\u001b[0m\u001b[1;33m\u001b[0m\u001b[0m\n\u001b[0;32m   4900\u001b[0m         \"\"\"\n\u001b[1;32m-> 4901\u001b[1;33m         return super().drop(\n\u001b[0m\u001b[0;32m   4902\u001b[0m             \u001b[0mlabels\u001b[0m\u001b[1;33m=\u001b[0m\u001b[0mlabels\u001b[0m\u001b[1;33m,\u001b[0m\u001b[1;33m\u001b[0m\u001b[1;33m\u001b[0m\u001b[0m\n\u001b[0;32m   4903\u001b[0m             \u001b[0maxis\u001b[0m\u001b[1;33m=\u001b[0m\u001b[0maxis\u001b[0m\u001b[1;33m,\u001b[0m\u001b[1;33m\u001b[0m\u001b[1;33m\u001b[0m\u001b[0m\n",
      "\u001b[1;32mc:\\users\\user\\appdata\\local\\programs\\python\\python39\\lib\\site-packages\\pandas\\core\\generic.py\u001b[0m in \u001b[0;36mdrop\u001b[1;34m(self, labels, axis, index, columns, level, inplace, errors)\u001b[0m\n\u001b[0;32m   4148\u001b[0m         \u001b[1;32mfor\u001b[0m \u001b[0maxis\u001b[0m\u001b[1;33m,\u001b[0m \u001b[0mlabels\u001b[0m \u001b[1;32min\u001b[0m \u001b[0maxes\u001b[0m\u001b[1;33m.\u001b[0m\u001b[0mitems\u001b[0m\u001b[1;33m(\u001b[0m\u001b[1;33m)\u001b[0m\u001b[1;33m:\u001b[0m\u001b[1;33m\u001b[0m\u001b[1;33m\u001b[0m\u001b[0m\n\u001b[0;32m   4149\u001b[0m             \u001b[1;32mif\u001b[0m \u001b[0mlabels\u001b[0m \u001b[1;32mis\u001b[0m \u001b[1;32mnot\u001b[0m \u001b[1;32mNone\u001b[0m\u001b[1;33m:\u001b[0m\u001b[1;33m\u001b[0m\u001b[1;33m\u001b[0m\u001b[0m\n\u001b[1;32m-> 4150\u001b[1;33m                 \u001b[0mobj\u001b[0m \u001b[1;33m=\u001b[0m \u001b[0mobj\u001b[0m\u001b[1;33m.\u001b[0m\u001b[0m_drop_axis\u001b[0m\u001b[1;33m(\u001b[0m\u001b[0mlabels\u001b[0m\u001b[1;33m,\u001b[0m \u001b[0maxis\u001b[0m\u001b[1;33m,\u001b[0m \u001b[0mlevel\u001b[0m\u001b[1;33m=\u001b[0m\u001b[0mlevel\u001b[0m\u001b[1;33m,\u001b[0m \u001b[0merrors\u001b[0m\u001b[1;33m=\u001b[0m\u001b[0merrors\u001b[0m\u001b[1;33m)\u001b[0m\u001b[1;33m\u001b[0m\u001b[1;33m\u001b[0m\u001b[0m\n\u001b[0m\u001b[0;32m   4151\u001b[0m \u001b[1;33m\u001b[0m\u001b[0m\n\u001b[0;32m   4152\u001b[0m         \u001b[1;32mif\u001b[0m \u001b[0minplace\u001b[0m\u001b[1;33m:\u001b[0m\u001b[1;33m\u001b[0m\u001b[1;33m\u001b[0m\u001b[0m\n",
      "\u001b[1;32mc:\\users\\user\\appdata\\local\\programs\\python\\python39\\lib\\site-packages\\pandas\\core\\generic.py\u001b[0m in \u001b[0;36m_drop_axis\u001b[1;34m(self, labels, axis, level, errors)\u001b[0m\n\u001b[0;32m   4183\u001b[0m                 \u001b[0mnew_axis\u001b[0m \u001b[1;33m=\u001b[0m \u001b[0maxis\u001b[0m\u001b[1;33m.\u001b[0m\u001b[0mdrop\u001b[0m\u001b[1;33m(\u001b[0m\u001b[0mlabels\u001b[0m\u001b[1;33m,\u001b[0m \u001b[0mlevel\u001b[0m\u001b[1;33m=\u001b[0m\u001b[0mlevel\u001b[0m\u001b[1;33m,\u001b[0m \u001b[0merrors\u001b[0m\u001b[1;33m=\u001b[0m\u001b[0merrors\u001b[0m\u001b[1;33m)\u001b[0m\u001b[1;33m\u001b[0m\u001b[1;33m\u001b[0m\u001b[0m\n\u001b[0;32m   4184\u001b[0m             \u001b[1;32melse\u001b[0m\u001b[1;33m:\u001b[0m\u001b[1;33m\u001b[0m\u001b[1;33m\u001b[0m\u001b[0m\n\u001b[1;32m-> 4185\u001b[1;33m                 \u001b[0mnew_axis\u001b[0m \u001b[1;33m=\u001b[0m \u001b[0maxis\u001b[0m\u001b[1;33m.\u001b[0m\u001b[0mdrop\u001b[0m\u001b[1;33m(\u001b[0m\u001b[0mlabels\u001b[0m\u001b[1;33m,\u001b[0m \u001b[0merrors\u001b[0m\u001b[1;33m=\u001b[0m\u001b[0merrors\u001b[0m\u001b[1;33m)\u001b[0m\u001b[1;33m\u001b[0m\u001b[1;33m\u001b[0m\u001b[0m\n\u001b[0m\u001b[0;32m   4186\u001b[0m             \u001b[0mresult\u001b[0m \u001b[1;33m=\u001b[0m \u001b[0mself\u001b[0m\u001b[1;33m.\u001b[0m\u001b[0mreindex\u001b[0m\u001b[1;33m(\u001b[0m\u001b[1;33m**\u001b[0m\u001b[1;33m{\u001b[0m\u001b[0maxis_name\u001b[0m\u001b[1;33m:\u001b[0m \u001b[0mnew_axis\u001b[0m\u001b[1;33m}\u001b[0m\u001b[1;33m)\u001b[0m\u001b[1;33m\u001b[0m\u001b[1;33m\u001b[0m\u001b[0m\n\u001b[0;32m   4187\u001b[0m \u001b[1;33m\u001b[0m\u001b[0m\n",
      "\u001b[1;32mc:\\users\\user\\appdata\\local\\programs\\python\\python39\\lib\\site-packages\\pandas\\core\\indexes\\base.py\u001b[0m in \u001b[0;36mdrop\u001b[1;34m(self, labels, errors)\u001b[0m\n\u001b[0;32m   6016\u001b[0m         \u001b[1;32mif\u001b[0m \u001b[0mmask\u001b[0m\u001b[1;33m.\u001b[0m\u001b[0many\u001b[0m\u001b[1;33m(\u001b[0m\u001b[1;33m)\u001b[0m\u001b[1;33m:\u001b[0m\u001b[1;33m\u001b[0m\u001b[1;33m\u001b[0m\u001b[0m\n\u001b[0;32m   6017\u001b[0m             \u001b[1;32mif\u001b[0m \u001b[0merrors\u001b[0m \u001b[1;33m!=\u001b[0m \u001b[1;34m\"ignore\"\u001b[0m\u001b[1;33m:\u001b[0m\u001b[1;33m\u001b[0m\u001b[1;33m\u001b[0m\u001b[0m\n\u001b[1;32m-> 6018\u001b[1;33m                 \u001b[1;32mraise\u001b[0m \u001b[0mKeyError\u001b[0m\u001b[1;33m(\u001b[0m\u001b[1;34mf\"{labels[mask]} not found in axis\"\u001b[0m\u001b[1;33m)\u001b[0m\u001b[1;33m\u001b[0m\u001b[1;33m\u001b[0m\u001b[0m\n\u001b[0m\u001b[0;32m   6019\u001b[0m             \u001b[0mindexer\u001b[0m \u001b[1;33m=\u001b[0m \u001b[0mindexer\u001b[0m\u001b[1;33m[\u001b[0m\u001b[1;33m~\u001b[0m\u001b[0mmask\u001b[0m\u001b[1;33m]\u001b[0m\u001b[1;33m\u001b[0m\u001b[1;33m\u001b[0m\u001b[0m\n\u001b[0;32m   6020\u001b[0m         \u001b[1;32mreturn\u001b[0m \u001b[0mself\u001b[0m\u001b[1;33m.\u001b[0m\u001b[0mdelete\u001b[0m\u001b[1;33m(\u001b[0m\u001b[0mindexer\u001b[0m\u001b[1;33m)\u001b[0m\u001b[1;33m\u001b[0m\u001b[1;33m\u001b[0m\u001b[0m\n",
      "\u001b[1;31mKeyError\u001b[0m: \"['RowNumber' 'CustomerId' 'Surname'] not found in axis\""
     ]
    }
   ],
   "source": [
    "# Drop data.Surname\n",
    "data = data.drop(columns=['RowNumber','CustomerId','Surname'])"
   ]
  },
  {
   "cell_type": "code",
   "execution_count": 41,
   "metadata": {},
   "outputs": [],
   "source": [
    "# Tell pandas that data.Gender is a categorical data, instead of object\n",
    "data['Gender'] = pd.Categorical(data.Gender)"
   ]
  },
  {
   "cell_type": "code",
   "execution_count": 42,
   "metadata": {},
   "outputs": [],
   "source": [
    "# Convert categorical data to numbers\n",
    "data['Gender'] = data.Gender.cat.codes"
   ]
  },
  {
   "cell_type": "code",
   "execution_count": 43,
   "metadata": {},
   "outputs": [
    {
     "ename": "ValueError",
     "evalue": "Length of 'prefix' (1) did not match the length of the columns being encoded (0).",
     "output_type": "error",
     "traceback": [
      "\u001b[1;31m---------------------------------------------------------------------------\u001b[0m",
      "\u001b[1;31mValueError\u001b[0m                                Traceback (most recent call last)",
      "\u001b[1;32m~\\AppData\\Local\\Temp/ipykernel_19840/3891135992.py\u001b[0m in \u001b[0;36m<module>\u001b[1;34m\u001b[0m\n\u001b[0;32m      1\u001b[0m \u001b[1;31m# One-hot encode the data.Geography\u001b[0m\u001b[1;33m\u001b[0m\u001b[1;33m\u001b[0m\u001b[1;33m\u001b[0m\u001b[0m\n\u001b[1;32m----> 2\u001b[1;33m \u001b[0mdata\u001b[0m \u001b[1;33m=\u001b[0m \u001b[0mpd\u001b[0m\u001b[1;33m.\u001b[0m\u001b[0mget_dummies\u001b[0m\u001b[1;33m(\u001b[0m\u001b[0mdata\u001b[0m\u001b[1;33m,\u001b[0m\u001b[0mprefix\u001b[0m\u001b[1;33m=\u001b[0m\u001b[1;33m[\u001b[0m\u001b[1;34m''\u001b[0m\u001b[1;33m]\u001b[0m\u001b[1;33m)\u001b[0m\u001b[1;33m\u001b[0m\u001b[1;33m\u001b[0m\u001b[0m\n\u001b[0m",
      "\u001b[1;32mc:\\users\\user\\appdata\\local\\programs\\python\\python39\\lib\\site-packages\\pandas\\core\\reshape\\reshape.py\u001b[0m in \u001b[0;36mget_dummies\u001b[1;34m(data, prefix, prefix_sep, dummy_na, columns, sparse, drop_first, dtype)\u001b[0m\n\u001b[0;32m    902\u001b[0m                     \u001b[1;32mraise\u001b[0m \u001b[0mValueError\u001b[0m\u001b[1;33m(\u001b[0m\u001b[0mlen_msg\u001b[0m\u001b[1;33m)\u001b[0m\u001b[1;33m\u001b[0m\u001b[1;33m\u001b[0m\u001b[0m\n\u001b[0;32m    903\u001b[0m \u001b[1;33m\u001b[0m\u001b[0m\n\u001b[1;32m--> 904\u001b[1;33m         \u001b[0mcheck_len\u001b[0m\u001b[1;33m(\u001b[0m\u001b[0mprefix\u001b[0m\u001b[1;33m,\u001b[0m \u001b[1;34m\"prefix\"\u001b[0m\u001b[1;33m)\u001b[0m\u001b[1;33m\u001b[0m\u001b[1;33m\u001b[0m\u001b[0m\n\u001b[0m\u001b[0;32m    905\u001b[0m         \u001b[0mcheck_len\u001b[0m\u001b[1;33m(\u001b[0m\u001b[0mprefix_sep\u001b[0m\u001b[1;33m,\u001b[0m \u001b[1;34m\"prefix_sep\"\u001b[0m\u001b[1;33m)\u001b[0m\u001b[1;33m\u001b[0m\u001b[1;33m\u001b[0m\u001b[0m\n\u001b[0;32m    906\u001b[0m \u001b[1;33m\u001b[0m\u001b[0m\n",
      "\u001b[1;32mc:\\users\\user\\appdata\\local\\programs\\python\\python39\\lib\\site-packages\\pandas\\core\\reshape\\reshape.py\u001b[0m in \u001b[0;36mcheck_len\u001b[1;34m(item, name)\u001b[0m\n\u001b[0;32m    900\u001b[0m                         \u001b[1;34mf\"({data_to_encode.shape[1]}).\"\u001b[0m\u001b[1;33m\u001b[0m\u001b[1;33m\u001b[0m\u001b[0m\n\u001b[0;32m    901\u001b[0m                     )\n\u001b[1;32m--> 902\u001b[1;33m                     \u001b[1;32mraise\u001b[0m \u001b[0mValueError\u001b[0m\u001b[1;33m(\u001b[0m\u001b[0mlen_msg\u001b[0m\u001b[1;33m)\u001b[0m\u001b[1;33m\u001b[0m\u001b[1;33m\u001b[0m\u001b[0m\n\u001b[0m\u001b[0;32m    903\u001b[0m \u001b[1;33m\u001b[0m\u001b[0m\n\u001b[0;32m    904\u001b[0m         \u001b[0mcheck_len\u001b[0m\u001b[1;33m(\u001b[0m\u001b[0mprefix\u001b[0m\u001b[1;33m,\u001b[0m \u001b[1;34m\"prefix\"\u001b[0m\u001b[1;33m)\u001b[0m\u001b[1;33m\u001b[0m\u001b[1;33m\u001b[0m\u001b[0m\n",
      "\u001b[1;31mValueError\u001b[0m: Length of 'prefix' (1) did not match the length of the columns being encoded (0)."
     ]
    }
   ],
   "source": [
    "# One-hot encode the data.Geography\n",
    "data = pd.get_dummies(data,prefix=[''])"
   ]
  },
  {
   "cell_type": "code",
   "execution_count": 44,
   "metadata": {},
   "outputs": [
    {
     "data": {
      "text/html": [
       "<div>\n",
       "<style scoped>\n",
       "    .dataframe tbody tr th:only-of-type {\n",
       "        vertical-align: middle;\n",
       "    }\n",
       "\n",
       "    .dataframe tbody tr th {\n",
       "        vertical-align: top;\n",
       "    }\n",
       "\n",
       "    .dataframe thead th {\n",
       "        text-align: right;\n",
       "    }\n",
       "</style>\n",
       "<table border=\"1\" class=\"dataframe\">\n",
       "  <thead>\n",
       "    <tr style=\"text-align: right;\">\n",
       "      <th></th>\n",
       "      <th>CreditScore</th>\n",
       "      <th>Gender</th>\n",
       "      <th>Age</th>\n",
       "      <th>Tenure</th>\n",
       "      <th>Balance</th>\n",
       "      <th>NumOfProducts</th>\n",
       "      <th>HasCrCard</th>\n",
       "      <th>IsActiveMember</th>\n",
       "      <th>EstimatedSalary</th>\n",
       "      <th>Exited</th>\n",
       "      <th>_France</th>\n",
       "      <th>_Germany</th>\n",
       "      <th>_Spain</th>\n",
       "    </tr>\n",
       "  </thead>\n",
       "  <tbody>\n",
       "    <tr>\n",
       "      <th>0</th>\n",
       "      <td>619</td>\n",
       "      <td>0</td>\n",
       "      <td>42</td>\n",
       "      <td>2</td>\n",
       "      <td>0.00</td>\n",
       "      <td>1</td>\n",
       "      <td>1</td>\n",
       "      <td>1</td>\n",
       "      <td>101348.88</td>\n",
       "      <td>1</td>\n",
       "      <td>1</td>\n",
       "      <td>0</td>\n",
       "      <td>0</td>\n",
       "    </tr>\n",
       "    <tr>\n",
       "      <th>1</th>\n",
       "      <td>608</td>\n",
       "      <td>0</td>\n",
       "      <td>41</td>\n",
       "      <td>1</td>\n",
       "      <td>83807.86</td>\n",
       "      <td>1</td>\n",
       "      <td>0</td>\n",
       "      <td>1</td>\n",
       "      <td>112542.58</td>\n",
       "      <td>0</td>\n",
       "      <td>0</td>\n",
       "      <td>0</td>\n",
       "      <td>1</td>\n",
       "    </tr>\n",
       "    <tr>\n",
       "      <th>2</th>\n",
       "      <td>502</td>\n",
       "      <td>0</td>\n",
       "      <td>42</td>\n",
       "      <td>8</td>\n",
       "      <td>159660.80</td>\n",
       "      <td>3</td>\n",
       "      <td>1</td>\n",
       "      <td>0</td>\n",
       "      <td>113931.57</td>\n",
       "      <td>1</td>\n",
       "      <td>1</td>\n",
       "      <td>0</td>\n",
       "      <td>0</td>\n",
       "    </tr>\n",
       "    <tr>\n",
       "      <th>3</th>\n",
       "      <td>699</td>\n",
       "      <td>0</td>\n",
       "      <td>39</td>\n",
       "      <td>1</td>\n",
       "      <td>0.00</td>\n",
       "      <td>2</td>\n",
       "      <td>0</td>\n",
       "      <td>0</td>\n",
       "      <td>93826.63</td>\n",
       "      <td>0</td>\n",
       "      <td>1</td>\n",
       "      <td>0</td>\n",
       "      <td>0</td>\n",
       "    </tr>\n",
       "    <tr>\n",
       "      <th>4</th>\n",
       "      <td>850</td>\n",
       "      <td>0</td>\n",
       "      <td>43</td>\n",
       "      <td>2</td>\n",
       "      <td>125510.82</td>\n",
       "      <td>1</td>\n",
       "      <td>1</td>\n",
       "      <td>1</td>\n",
       "      <td>79084.10</td>\n",
       "      <td>0</td>\n",
       "      <td>0</td>\n",
       "      <td>0</td>\n",
       "      <td>1</td>\n",
       "    </tr>\n",
       "  </tbody>\n",
       "</table>\n",
       "</div>"
      ],
      "text/plain": [
       "   CreditScore  Gender  Age  Tenure    Balance  NumOfProducts  HasCrCard  \\\n",
       "0          619       0   42       2       0.00              1          1   \n",
       "1          608       0   41       1   83807.86              1          0   \n",
       "2          502       0   42       8  159660.80              3          1   \n",
       "3          699       0   39       1       0.00              2          0   \n",
       "4          850       0   43       2  125510.82              1          1   \n",
       "\n",
       "   IsActiveMember  EstimatedSalary  Exited  _France  _Germany  _Spain  \n",
       "0               1        101348.88       1        1         0       0  \n",
       "1               1        112542.58       0        0         0       1  \n",
       "2               0        113931.57       1        1         0       0  \n",
       "3               0         93826.63       0        1         0       0  \n",
       "4               1         79084.10       0        0         0       1  "
      ]
     },
     "execution_count": 44,
     "metadata": {},
     "output_type": "execute_result"
    }
   ],
   "source": [
    "data.head(5)"
   ]
  },
  {
   "cell_type": "code",
   "execution_count": 22,
   "metadata": {
    "scrolled": false
   },
   "outputs": [
    {
     "data": {
      "image/png": "[encoded data removed]",
      "text/plain": [
       "<Figure size 432x432 with 1 Axes>"
      ]
     },
     "metadata": {
      "needs_background": "light"
     },
     "output_type": "display_data"
    }
   ],
   "source": [
    "sns.countplot(x='Exited', data=data, palette='hls')\n",
    "plt.show()"
   ]
  },
  {
   "cell_type": "code",
   "execution_count": 46,
   "metadata": {},
   "outputs": [
    {
     "name": "stdout",
     "output_type": "stream",
     "text": [
      "Percent of Retained Customers 79.63\n",
      "Percent of Churned Customerns 20.369999999999997\n"
     ]
    }
   ],
   "source": [
    "count_retain = len(data[data['Exited']==0])\n",
    "count_churn = len(data[data['Exited']==1])\n",
    "percent_retain = count_retain/(count_retain+count_churn)\n",
    "print(\"Percent of Retained Customers\", percent_retain*100)\n",
    "percent_churn = count_churn/(count_retain+count_churn)\n",
    "print(\"Percent of Churned Customerns\", percent_churn*100)"
   ]
  },
  {
   "cell_type": "code",
   "execution_count": 47,
   "metadata": {},
   "outputs": [],
   "source": [
    "# Question : What can you say about our dataset, given `Exited` is the target?\n",
    "\n",
    "# SC\n",
    "# Dataset iss imbalance"
   ]
  },
  {
   "cell_type": "markdown",
   "metadata": {},
   "source": [
    "We create **`train`**, **`test`** , and **`val`** sets."
   ]
  },
  {
   "cell_type": "code",
   "execution_count": 50,
   "metadata": {},
   "outputs": [],
   "source": [
    "# Split and shuffle our dataset.\n",
    "train_data, test_data = train_test_split(data.copy(), test_size=0.2)\n",
    "train_data, val_data = train_test_split(train_data, test_size=0.2)\n",
    "\n",
    "# Form np arrays of labels and features.\n",
    "y_train = np.array(train_data.pop('Exited'))\n",
    "bool_y_train = y_train != 0\n",
    "y_val = np.array(val_data.pop('Exited'))\n",
    "y_test = np.array(test_data.pop('Exited'))\n",
    "\n",
    "X_train = np.array(train_data)\n",
    "X_val = np.array(val_data)\n",
    "X_test = np.array(test_data)"
   ]
  },
  {
   "cell_type": "markdown",
   "metadata": {},
   "source": [
    "We normalize our input features using `StandardScaler()`. This will set the mean to `0` and standard deviation to `1`. "
   ]
  },
  {
   "cell_type": "code",
   "execution_count": 51,
   "metadata": {},
   "outputs": [],
   "source": [
    "# Question : What does StandardScaler do to our data?\n",
    "\n",
    "# SC\n"
   ]
  },
  {
   "cell_type": "code",
   "execution_count": 27,
   "metadata": {},
   "outputs": [
    {
     "name": "stdout",
     "output_type": "stream",
     "text": [
      "Training labels shape: (6400,)\n",
      "Validation labels shape: (1600,)\n",
      "Test labels shape: (2000,)\n",
      "Training features shape: (6400, 12)\n",
      "Validation features shape: (1600, 12)\n",
      "Test features shape: (2000, 12)\n"
     ]
    }
   ],
   "source": [
    "scaler = StandardScaler()\n",
    "\n",
    "X_train = scaler.fit_transform(X_train)\n",
    "X_val = scaler.transform(X_val)\n",
    "X_test = scaler.transform(X_test)\n",
    "\n",
    "X_train = np.clip(X_train, -5, 5)\n",
    "X_val = np.clip(X_val, -5, 5)\n",
    "X_test= np.clip(X_test, -5, 5)\n",
    "\n",
    "\n",
    "print('Training labels shape:', y_train.shape)\n",
    "print('Validation labels shape:', y_val.shape)\n",
    "print('Test labels shape:', y_test.shape)\n",
    "\n",
    "print('Training features shape:', X_train.shape)\n",
    "print('Validation features shape:', X_val.shape)\n",
    "print('Test features shape:', X_test.shape)"
   ]
  },
  {
   "cell_type": "code",
   "execution_count": 52,
   "metadata": {},
   "outputs": [
    {
     "data": {
      "text/plain": [
       "(6400, 12)"
      ]
     },
     "execution_count": 52,
     "metadata": {},
     "output_type": "execute_result"
    }
   ],
   "source": [
    "X_train.shape"
   ]
  },
  {
   "cell_type": "code",
   "execution_count": 53,
   "metadata": {},
   "outputs": [
    {
     "data": {
      "text/plain": [
       "array([0, 0, 1, ..., 1, 0, 0], dtype=int64)"
      ]
     },
     "execution_count": 53,
     "metadata": {},
     "output_type": "execute_result"
    }
   ],
   "source": [
    "y_train"
   ]
  },
  {
   "cell_type": "markdown",
   "metadata": {},
   "source": [
    "### 2.1. Logistic Regression on `sklearn`\n",
    "\n",
    "Let's deal with the problem by first using the `Logistic Regression` class of `sklearn`. \n"
   ]
  },
  {
   "cell_type": "code",
   "execution_count": null,
   "metadata": {},
   "outputs": [],
   "source": []
  },
  {
   "cell_type": "code",
   "execution_count": 54,
   "metadata": {},
   "outputs": [],
   "source": [
    "# Instantiate an sklearn model for logistic regression\n",
    "model_lr = LogisticRegression()"
   ]
  },
  {
   "cell_type": "code",
   "execution_count": 55,
   "metadata": {},
   "outputs": [
    {
     "data": {
      "text/plain": [
       "LogisticRegression()"
      ]
     },
     "execution_count": 55,
     "metadata": {},
     "output_type": "execute_result"
    }
   ],
   "source": [
    "# Start training\n",
    "model_lr.fit(X_train, y_train)"
   ]
  },
  {
   "cell_type": "code",
   "execution_count": 30,
   "metadata": {},
   "outputs": [
    {
     "name": "stdout",
     "output_type": "stream",
     "text": [
      "Accuracy of logistic regression classifier on test set: 0.81\n"
     ]
    }
   ],
   "source": [
    "# Use trained model to predict on test dataset\n",
    "y_pred = model_lr.predict(X_test)\n",
    "print('Accuracy of logistic regression classifier on test set: {:.2f}'.format(model_lr.score(X_test, y_test)))"
   ]
  },
  {
   "cell_type": "markdown",
   "metadata": {},
   "source": [
    "### 2.2. Logistic Regression with Neural Networks \n",
    "\n",
    "Below we try to solve the same problem, but this time we make use of an Artificial Neural Network. An example of instantiating a model object with the `Keras` API is given. Several `layers` are added to the `modelA`. We will discuss each line thoroughly as we go along the discussion. For now, take a look at how `modelA` is constructed. "
   ]
  },
  {
   "cell_type": "code",
   "execution_count": 57,
   "metadata": {},
   "outputs": [
    {
     "data": {
      "text/plain": [
       "(6400, 12)"
      ]
     },
     "execution_count": 57,
     "metadata": {},
     "output_type": "execute_result"
    }
   ],
   "source": [
    "X_train.shape"
   ]
  },
  {
   "cell_type": "code",
   "execution_count": 56,
   "metadata": {
    "scrolled": true
   },
   "outputs": [
    {
     "name": "stdout",
     "output_type": "stream",
     "text": [
      "Epoch 1/20\n",
      "64/64 [==============================] - 2s 24ms/step - loss: 3934.3828 - accuracy: 0.2036 - val_loss: 2537.3701 - val_accuracy: 0.2144\n",
      "Epoch 2/20\n",
      "64/64 [==============================] - 0s 7ms/step - loss: 1639.1605 - accuracy: 0.2036 - val_loss: 811.6884 - val_accuracy: 0.2144\n",
      "Epoch 3/20\n",
      "64/64 [==============================] - 0s 4ms/step - loss: 272.7307 - accuracy: 0.4112 - val_loss: 22.5173 - val_accuracy: 0.7856\n",
      "Epoch 4/20\n",
      "64/64 [==============================] - 0s 3ms/step - loss: 4.0759 - accuracy: 0.6787 - val_loss: 0.8777 - val_accuracy: 0.7856\n",
      "Epoch 5/20\n",
      "64/64 [==============================] - 0s 4ms/step - loss: 0.5767 - accuracy: 0.7908 - val_loss: 0.5668 - val_accuracy: 0.7856\n",
      "Epoch 6/20\n",
      "64/64 [==============================] - 0s 4ms/step - loss: 0.5617 - accuracy: 0.7964 - val_loss: 0.5575 - val_accuracy: 0.7856\n",
      "Epoch 7/20\n",
      "64/64 [==============================] - 0s 4ms/step - loss: 0.5761 - accuracy: 0.7844 - val_loss: 0.5565 - val_accuracy: 0.7856\n",
      "Epoch 8/20\n",
      "64/64 [==============================] - 0s 4ms/step - loss: 0.5792 - accuracy: 0.7777 - val_loss: 0.5618 - val_accuracy: 0.7856\n",
      "Epoch 9/20\n",
      "64/64 [==============================] - 0s 5ms/step - loss: 0.5838 - accuracy: 0.7895 - val_loss: 0.6171 - val_accuracy: 0.7856\n",
      "Epoch 10/20\n",
      "64/64 [==============================] - 0s 5ms/step - loss: 0.5726 - accuracy: 0.7880 - val_loss: 0.5697 - val_accuracy: 0.7856\n",
      "Epoch 11/20\n",
      "64/64 [==============================] - 0s 5ms/step - loss: 0.6930 - accuracy: 0.7247 - val_loss: 0.6452 - val_accuracy: 0.7856\n",
      "Epoch 12/20\n",
      "64/64 [==============================] - 0s 5ms/step - loss: 0.5908 - accuracy: 0.7845 - val_loss: 0.5578 - val_accuracy: 0.7856\n",
      "Epoch 13/20\n",
      "64/64 [==============================] - 0s 6ms/step - loss: 0.6658 - accuracy: 0.7422 - val_loss: 0.5699 - val_accuracy: 0.7856\n",
      "Epoch 14/20\n",
      "64/64 [==============================] - 0s 3ms/step - loss: 0.5994 - accuracy: 0.7738 - val_loss: 0.5812 - val_accuracy: 0.7856\n",
      "Epoch 15/20\n",
      "64/64 [==============================] - 0s 7ms/step - loss: 0.5982 - accuracy: 0.7727 - val_loss: 0.5969 - val_accuracy: 0.7856\n",
      "Epoch 16/20\n",
      "64/64 [==============================] - 0s 6ms/step - loss: 0.6348 - accuracy: 0.7517 - val_loss: 0.6974 - val_accuracy: 0.4913\n",
      "Epoch 17/20\n",
      "64/64 [==============================] - 0s 5ms/step - loss: 0.6992 - accuracy: 0.7250 - val_loss: 0.5737 - val_accuracy: 0.7856\n",
      "Epoch 18/20\n",
      "64/64 [==============================] - 0s 4ms/step - loss: 0.7203 - accuracy: 0.7220 - val_loss: 0.5590 - val_accuracy: 0.7856\n",
      "Epoch 19/20\n",
      "64/64 [==============================] - 0s 3ms/step - loss: 0.7520 - accuracy: 0.7353 - val_loss: 1.3724 - val_accuracy: 0.2606\n",
      "Epoch 20/20\n",
      "64/64 [==============================] - 0s 3ms/step - loss: 0.7638 - accuracy: 0.7336 - val_loss: 0.9563 - val_accuracy: 0.7856\n",
      "63/63 [==============================] - 0s 3ms/step - loss: 0.9230 - accuracy: 0.8045\n"
     ]
    },
    {
     "data": {
      "text/plain": [
       "array([[0.02096617],\n",
       "       [0.22802004],\n",
       "       [0.0007104 ],\n",
       "       ...,\n",
       "       [0.00779364],\n",
       "       [0.05923063],\n",
       "       [0.06187335]], dtype=float32)"
      ]
     },
     "execution_count": 56,
     "metadata": {},
     "output_type": "execute_result"
    }
   ],
   "source": [
    " # Instantiate modelA\n",
    "modelA = keras.Sequential([\n",
    "    tf.keras.layers.Dense(2, activation='relu', input_shape=[len(X_train[0])]),\n",
    "    tf.keras.layers.Dense(2, activation='relu'),\n",
    "    tf.keras.layers.Dense(1,   activation='sigmoid')\n",
    "        \n",
    "  ])\n",
    "\n",
    "# Compile modelA\n",
    "modelA.compile(loss='binary_crossentropy',\n",
    "              optimizer='adam',\n",
    "              metrics=['accuracy'])\n",
    "\n",
    "# Prepare training modelA log storage\n",
    "logdirA = os.path.join(\"logs\",\"modelA\", datetime.datetime.now().strftime(\"%Y%m%d-%H%M%S\"))\n",
    "tensorboard_callbackA = tf.keras.callbacks.TensorBoard(logdirA, histogram_freq=1)\n",
    "\n",
    "\n",
    "# Train modelA\n",
    "historyA = modelA.fit(X_train, y_train,\n",
    "                    epochs=20, \n",
    "                    batch_size=100,\n",
    "                    validation_data=(X_val, y_val), \n",
    "                    verbose=1,\n",
    "                    callbacks=[tensorboard_callbackA])\n",
    "\n",
    "\n",
    "# Evaluate modelA\n",
    "modelA.evaluate(X_test, y_test)\n",
    "\n",
    "# Use trained modelA to predict on test dataset\n",
    "modelA.predict(X_test)\n"
   ]
  },
  {
   "cell_type": "markdown",
   "metadata": {},
   "source": [
    "# 3. Components of Artificial Neural Networks"
   ]
  },
  {
   "cell_type": "markdown",
   "metadata": {},
   "source": [
    "### 3.1. Neural Network Attributes"
   ]
  },
  {
   "cell_type": "markdown",
   "metadata": {},
   "source": [
    "Each of the layers in the neural network is a **tensor operation (e.g. addition, multiplication, etc.)** applied to tensors of numeric data. \n",
    "\n",
    "```python\n",
    "    modelA = keras.Sequential([\n",
    "        tf.keras.layers.Dense(24, activation='relu', input_shape=[len(X_train.keys())]),\n",
    "        tf.keras.layers.Dense(24, activation='relu'),\n",
    "        tf.keras.layers.Dense(1,  activation='sigmoid')\n",
    "      ])\n",
    "``` \n",
    "These layers are stacked on top of each other in a **`Sequential`** manner as shown below. Each circle is considered a **`neuron`** OR **`unit`**."
   ]
  },
  {
   "cell_type": "markdown",
   "metadata": {},
   "source": [
    "<img src=\"./images/nn_bias_hidden.png\" style=\"height: 300px;\" align=left> "
   ]
  },
  {
   "cell_type": "markdown",
   "metadata": {},
   "source": [
    "Notice that all neurons/units are connected to each one of the preceding layer. A layer with this configuration is called a **Fully-connected Layer** OR a **Densely-Connected Layer**, hence the call `tf.keras.layers.Dense`."
   ]
  },
  {
   "cell_type": "markdown",
   "metadata": {},
   "source": [
    "Take for example this one layer and its output:\n",
    "\n",
    "```python\n",
    "tf.keras.layers.Dense(24, activation='relu')`\n",
    "```\n",
    "The input data is transformed by the layer as follows: \n",
    "\n",
    " `(3.2) output = relu(dot(W, input) + b)`\n",
    " \n",
    "We intepret this function as one that feeds on a 2D tensor and returns a 2D tensor. Here `W` is a 2D tensor and `b` is a vector. \n",
    "\n"
   ]
  },
  {
   "cell_type": "code",
   "execution_count": 58,
   "metadata": {},
   "outputs": [],
   "source": [
    "# Question : Identify the tensor operations used in equation (3.2)\n",
    "\n",
    "# SC\n",
    "\n"
   ]
  },
  {
   "cell_type": "markdown",
   "metadata": {},
   "source": [
    "In the corresponding network graph above, **`X`** correspond to the `features`. In our churn data example there are `12` columns corresponding to `12 features`. Therefore, there are `12 units` in the input layer. There are `24 units` for the first hidden layer, another `24 units` for the second hidden layer and `1 unit` for the output layer. There are additional `3 units` of `b`, one for each hidden and output layer. \n",
    "\n",
    "**`W`** and **`b`** are tensor attributes of the layer. These attributes are called **weights** OR **trainable attributes**. Each arrow you see carries a weight. Everytime the neural network is exposed to new data, these attributes are updated. They store all the information **learned** by the network during **training**.  Imagine the **`W`** (**kernels**) as knobs or buttons that we can tweak to correctly predict the churn of customers. On the otherhand, **`b`** (**bias**) does NOT interact with the input data. Furthermore, it has a weight = `1`. You'll often see `b` written as `Wo`. It is a tensor of constant values that gives us some data-independent prefences of a class over the other. "
   ]
  },
  {
   "cell_type": "markdown",
   "metadata": {},
   "source": [
    "### 3.2. Counting Trainable Parameters for Fully Connected Layers"
   ]
  },
  {
   "cell_type": "code",
   "execution_count": null,
   "metadata": {},
   "outputs": [],
   "source": [
    "# Question : In our churn prediction neural network, how many are our trainable parameters?\n",
    "# Hint: Connections between layers + bias connections in each layer\n",
    "\n",
    "# SC"
   ]
  },
  {
   "cell_type": "code",
   "execution_count": 72,
   "metadata": {},
   "outputs": [],
   "source": [
    "temp_model=tf.keras.models.Sequential([\n",
    "    tf.keras.layers.Dense(2, input_shape=(12,)),\n",
    "    tf.keras.layers.Dense(2), \n",
    "    tf.keras.layers.Dense(1,)\n",
    "])"
   ]
  },
  {
   "cell_type": "code",
   "execution_count": 73,
   "metadata": {},
   "outputs": [
    {
     "name": "stdout",
     "output_type": "stream",
     "text": [
      "Model: \"sequential_5\"\n",
      "_________________________________________________________________\n",
      "Layer (type)                 Output Shape              Param #   \n",
      "=================================================================\n",
      "dense_15 (Dense)             (None, 2)                 26        \n",
      "_________________________________________________________________\n",
      "dense_16 (Dense)             (None, 2)                 6         \n",
      "_________________________________________________________________\n",
      "dense_17 (Dense)             (None, 1)                 3         \n",
      "=================================================================\n",
      "Total params: 35\n",
      "Trainable params: 35\n",
      "Non-trainable params: 0\n",
      "_________________________________________________________________\n"
     ]
    }
   ],
   "source": [
    "temp_model.summary()"
   ]
  },
  {
   "cell_type": "code",
   "execution_count": null,
   "metadata": {},
   "outputs": [],
   "source": [
    "# Question : How many trainable parameters are there if we have 3 feature columns, a hidden layer of 5 units, and output layer with 3 units?\n",
    "\n",
    "\n",
    "# SC"
   ]
  },
  {
   "cell_type": "code",
   "execution_count": null,
   "metadata": {},
   "outputs": [],
   "source": [
    "# Question : How many trainable parameters are there if we have 10 feature columns, a hidden layer of 2 units, and output layer with 1 units?\n",
    "\n",
    "\n",
    "# SC"
   ]
  },
  {
   "cell_type": "markdown",
   "metadata": {},
   "source": [
    "### 3.3. Feed Forward"
   ]
  },
  {
   "cell_type": "markdown",
   "metadata": {},
   "source": [
    "Recall that we defined above `EPOCHS = 10`. An epoch is also called a **training loop**.\n",
    "\n",
    "Based from the previous network graph, the information travels from the input layer to the output layer and the process follows the following steps\n",
    "<br>\n",
    "**Feedforward**:\n",
    "\n",
    "1. Gather the training samples `X` and corresponding targets `y`. \n",
    "2. Calculate the `dot` product of `X` and `W` :  `dot(W, X) + b`\n",
    "3. Pass the result to an **activation function** :  `relu(dot(W,X) + b)`"
   ]
  },
  {
   "cell_type": "markdown",
   "metadata": {},
   "source": [
    "### 3.3.1 Activation Functions"
   ]
  },
  {
   "cell_type": "markdown",
   "metadata": {},
   "source": [
    "Going back to the network we've just constructed:\n",
    "\n",
    "```python\n",
    "    tf.keras.layers.Dense(2, activation='relu', input_shape=[len(train_dataset.keys())]),\n",
    "    tf.keras.layers.Dense(2, activation='relu'),\n",
    "    tf.keras.layers.Dense(1, activation='sigmoid')\n",
    "```\n",
    "\n",
    "The `relu()` and `sigmoid()` are examples of **Activation Functions**. \n",
    "<br>\n",
    "We show below how each activation function processes input data."
   ]
  },
  {
   "cell_type": "markdown",
   "metadata": {},
   "source": [
    "#### 3.3.1.1. Rectified Linear Unit - RELU\n",
    "\n",
    "The RELU activation function is thresholded at 0. If `x<0`, it is \"squashed\" to zero. If `x>0`, it follows a line with `slope=1`. It’s NOT Linear, but it’s used to introduce linearity. It provides the same benefits as Sigmoid,\n",
    "but with better performance.\n",
    "\n",
    "**When to use:** Can be used only in the hidden layers."
   ]
  },
  {
   "cell_type": "code",
   "execution_count": 74,
   "metadata": {},
   "outputs": [
    {
     "data": {
      "text/plain": [
       "Text(0.5, 1.0, 'ReLU Function')"
      ]
     },
     "execution_count": 74,
     "metadata": {},
     "output_type": "execute_result"
    },
    {
     "data": {
      "image/png": "[encoded data removed]",
      "text/plain": [
       "<Figure size 432x432 with 1 Axes>"
      ]
     },
     "metadata": {
      "needs_background": "light"
     },
     "output_type": "display_data"
    }
   ],
   "source": [
    "def relu(z):\n",
    "    return np.maximum(z, 0) \n",
    "\n",
    "import matplotlib.pyplot as plt\n",
    "import numpy as np\n",
    "\n",
    "input_ = np.linspace(-10, 10, 100)\n",
    "plt.plot(input_, relu(input_), c=\"r\")\n",
    "plt.title(\"ReLU Function\")"
   ]
  },
  {
   "cell_type": "markdown",
   "metadata": {},
   "source": [
    "#### 3.3.1.2. Sigmoid\n",
    "\n",
    "It takes a real-valued number and \"squashes\" it into range between 0 and 1. Large negative numbers become 0 and large positive numbers become 1.\n",
    "\n",
    "**When to use:** If we have to predict the probability of observation.\n",
    "<br>\n",
    "**Note:** The probability of anything exists only between (0 to 1)."
   ]
  },
  {
   "cell_type": "code",
   "execution_count": 75,
   "metadata": {
    "scrolled": false
   },
   "outputs": [
    {
     "data": {
      "text/plain": [
       "Text(0.5, 1.0, 'Sigmoid Function')"
      ]
     },
     "execution_count": 75,
     "metadata": {},
     "output_type": "execute_result"
    },
    {
     "data": {
      "image/png": "[encoded data removed]",
      "text/plain": [
       "<Figure size 432x432 with 1 Axes>"
      ]
     },
     "metadata": {
      "needs_background": "light"
     },
     "output_type": "display_data"
    }
   ],
   "source": [
    "# define the sigmoid function\n",
    "def sigmoid(z):\n",
    "    return 1/(1+np.exp(-z))\n",
    "\n",
    "input_ = np.linspace(-10, 10, 100)\n",
    "plt.plot(input_, sigmoid(input_), c=\"r\")\n",
    "plt.title(\"Sigmoid Function\")"
   ]
  },
  {
   "cell_type": "markdown",
   "metadata": {},
   "source": [
    "#### 3.3.1.3. Softmax\n",
    "\n",
    "Generalization of the Sigmoid function.\n",
    "\n",
    "**When to use:** If we have a multiclass problem.\n",
    "<br>\n",
    "**Note:** The sum of probabilities of observation is 1."
   ]
  },
  {
   "cell_type": "code",
   "execution_count": 76,
   "metadata": {},
   "outputs": [
    {
     "data": {
      "text/plain": [
       "Text(0.5, 1.0, 'Softmax Function')"
      ]
     },
     "execution_count": 76,
     "metadata": {},
     "output_type": "execute_result"
    },
    {
     "data": {
      "image/png": "[encoded data removed]",
      "text/plain": [
       "<Figure size 432x432 with 1 Axes>"
      ]
     },
     "metadata": {
      "needs_background": "light"
     },
     "output_type": "display_data"
    }
   ],
   "source": [
    "# define a softmax function\n",
    "def softmax(x):\n",
    "    e_x = np.exp(x-np.max(x)) \n",
    "    return e_x /e_x.sum()\n",
    "\n",
    "input_ = np.linspace(-10, 10, 100)\n",
    "plt.plot(input_, softmax(input_), c=\"r\")\n",
    "plt.title(\"Softmax Function\")\n"
   ]
  },
  {
   "cell_type": "markdown",
   "metadata": {},
   "source": [
    "#### 3.3.1.4. Hyperbolic Tangent\n",
    "\n",
    "Negative inputs will be mapped strongly negative and the zero inputs will be mapped near zero in the tanh graph.\n",
    "The range of the tanh function is from (-1 to 1). tanh is also sigmoidal (s - shaped).\n",
    "\n",
    "**When to use:** When doing a classification between `2` classes.\n",
    "<b>"
   ]
  },
  {
   "cell_type": "code",
   "execution_count": null,
   "metadata": {
    "scrolled": false
   },
   "outputs": [],
   "source": [
    "def tanh(z):\n",
    "    return (np.exp(z)-np.exp(-z))/(np.exp(z)+np.exp(-z))\n",
    "                                   \n",
    "input_ = np.linspace(-10, 10, 100)\n",
    "plt.plot(input_, tanh(input_), c=\"r\")\n",
    "plt.title(\"Hyperbolic Tangent\")"
   ]
  },
  {
   "cell_type": "code",
   "execution_count": null,
   "metadata": {},
   "outputs": [],
   "source": [
    "# Question : What happens to our network if we do not use non-linear Activation Functions? \n",
    "\n",
    "\n",
    "# MC\n",
    "# Tensor operations reduce to  y = dot(W, input) + b. \n",
    "# Network collapses to linear and is not able to capture non-linearity. "
   ]
  },
  {
   "cell_type": "markdown",
   "metadata": {},
   "source": [
    "Now that we have discussed the forward propagation of information and activation functions, we are now ready to tackle the following steps:\n",
    "\n",
    "4. Compute the **cost of the network, `J`** on the batch, a measure of the difference between `y_pred` and `y`.\n",
    "5. Using **`Gradient Descent`**, find the values of `W` and `b` that minimizes the cost `J`.\n",
    "6. Update all`W` and `b` simultaneously."
   ]
  },
  {
   "cell_type": "markdown",
   "metadata": {},
   "source": [
    "### 3.4. Loss Function (Objective Function)"
   ]
  },
  {
   "cell_type": "markdown",
   "metadata": {},
   "source": [
    "`W` and `b` are intialized with small random values (*random initialization*). The initial outputs or representations are rarely useful. These weights are gradually adjusted based from the feedback signal. We repeat Feedforward and Backpropagation in a loop until we get `y_pred` that is close enough to `y`. The network learns to map the input to correct target (labels). This process of adjustment is called **training**. \n",
    "\n",
    "We will now discuss the rest of the gears of a neural network. "
   ]
  },
  {
   "cell_type": "code",
   "execution_count": null,
   "metadata": {},
   "outputs": [],
   "source": [
    "# Question 6: What type of machine learning (Supervised or Unsupervised) was described by the steps above?\n",
    "\n",
    "# MC\n",
    "# Supervised Machine Learning"
   ]
  },
  {
   "cell_type": "markdown",
   "metadata": {},
   "source": [
    "The **Loss Function** determines how good our predicted label `y_pred` with respect to the true label `y` for a **single training example**. That means we want to minimize this loss. A usual form we know is half of the square difference between the predicted value `y_pred` and true value `y`:"
   ]
  },
  {
   "cell_type": "code",
   "execution_count": 77,
   "metadata": {},
   "outputs": [
    {
     "name": "stdout",
     "output_type": "stream",
     "text": [
      "Sum of Squared Losses: 1.5\n"
     ]
    }
   ],
   "source": [
    "# Define a sum of squared error function\n",
    "def ss_loss(y, y_pred):\n",
    "    return 1/2*np.sum((y - y_pred)**2)\n",
    "\n",
    "y = np.array([0., 0., 1., 1.])\n",
    "y_pred = np.array([1., 1., 1., 0.])\n",
    "\n",
    "print(\"Sum of Squared Losses:\", ss_loss(y,y_pred))"
   ]
  },
  {
   "cell_type": "markdown",
   "metadata": {},
   "source": [
    "The image below shows an example plot of `W0` and `W1`. The height shown by the solid black arrow indicate the error (loss) between `y_pred` and `y`. Our aim is to find a combination of values of `W0` and `W1` such that the error is small enough. \n",
    "\n",
    "<img src=\"./images/nn_loss.png\" style=\"height: 300px;\" align=left> "
   ]
  },
  {
   "cell_type": "markdown",
   "metadata": {},
   "source": [
    "Image Credit ([Source](https://www.eecs.wsu.edu/~cook/dm/lectures/l5/node10.html))"
   ]
  },
  {
   "cell_type": "markdown",
   "metadata": {},
   "source": [
    "While the Loss Function determines the error for one training example, the **Cost Function** on the other hand measures how well the network is doing for the **entire training set**.\n",
    "\n",
    "Recall the line above where we compiled our model.\n",
    "\n",
    "```python\n",
    "model.compile(loss=tf.keras.losses.BinaryCrossentropy(from_logits=True),\n",
    "              optimizer='adam',\n",
    "              metrics=['accuracy'])\n",
    "```\n",
    "We used the `BinaryCrossentropy`. An example of how this function computes the loss is given below. "
   ]
  },
  {
   "cell_type": "code",
   "execution_count": 78,
   "metadata": {},
   "outputs": [
    {
     "name": "stdout",
     "output_type": "stream",
     "text": [
      "Loss:  11.522856\n"
     ]
    }
   ],
   "source": [
    "bce = tf.keras.losses.BinaryCrossentropy()\n",
    "loss = bce([0., 0., 1., 1.], [1., 1., 1., 0.])\n",
    "print('Loss: ', loss.numpy())"
   ]
  },
  {
   "cell_type": "markdown",
   "metadata": {},
   "source": [
    "Which loss function to use is highly dependent on the problem at hand. For instance: <br> \n",
    "- **mean- squared error** for a **regression problem**\n",
    "- **binary crossentropy** for a **two-class classification problem** <br> \n",
    "- **categorical crossentropy** for a **multi-class classification problem** <br> \n",
    "- **connectionist temporal classification (CTC)** for a **sequence-learning problem**\n",
    "\n",
    "\n",
    "\n",
    "[You may check-out different `tf.keras.losses` functions and usage.](https://www.tensorflow.org/api_docs/python/tf/keras/losses) "
   ]
  },
  {
   "cell_type": "markdown",
   "metadata": {},
   "source": [
    "### 3.5. Gradient Descent"
   ]
  },
  {
   "cell_type": "markdown",
   "metadata": {},
   "source": [
    "**I. In our churn prediction network, how do we know if we should increase or decrease each of the `35` coefficients and by how much?** \n",
    "<br> One way is to tweak `1` of the coefficients and freeze the remaining `34`. Say the one we are tweaking has an initial value `W=0.2`. After one loop of passing the batch to the network, we have `loss=0.5`. We update the value to `W=0.3` and do a second feedforward. This time `loss=0.6`. We then update the coefficient to `W=0.35` and the loss drops to `loss=0.2`. This means we need to change `W` by `-0.05` to minimize the `loss`. If we do the same to the other `34` coefficients, we'll find it very inefficient, expensive, and time-consuming. Later we're to deal with networks having *thousands to millions* of trainable parameters! <br>  \n",
    "\n",
    "**II. How do we make our entire network from having high loss to low loss?** <br>\n",
    "All of the tensor operations in our previous network are **differentiable** having tractable **gradients**. We can solve for the **derivative** of loss with respect to the coefficients, i.e. compute how the loss changes with respect to the change of weights, and update the weights we feed into the network accordingly. \n",
    "All along we are solving an **Optimization** problem. One algorithm that solves such problem is called **Gradient-based Optimization** OR **Gradient Descent**.  <br>"
   ]
  },
  {
   "cell_type": "markdown",
   "metadata": {},
   "source": [
    "<img src=\"./images/nn_local.png\" style=\"height: 300px;\" align=left> "
   ]
  },
  {
   "cell_type": "markdown",
   "metadata": {},
   "source": [
    "For simplicity, instead of `(3.2)`,  we use equation `(3.3)` to get the `y_pred`. <br>\n",
    "**` (3.3) y_pred = dot(W, x) + b`** <br>\n",
    "\n",
    "The loss value is a function of both `y_pred` and `y`.  <br>\n",
    "**` (3.4) loss_value = loss(y_pred,y)`** <br>\n",
    "\n",
    "If `x` and `y` are frozen, the loss value is a function of `W`. This means we can map the losses from the coefficients `W`. <br>\n",
    "**` (3.5) loss_value = L(W)`** <br>\n",
    "\n",
    "The derivative of `L` in the point `Wo` is a tensor gradient, having the same shape as `W`: <br>\n",
    "**` (3.6) derivative(L)(Wo) = gradient(L)(Wo)`**\n",
    "\n",
    "**`gradient(L)(Wo)`** can be interpreted as tensor describing the **curvature** of `f(W)` around `Wo`. \n",
    "\n",
    "**III. How do we update `Wo` to achieve lowest loss?** <br>\n",
    "If **`gradient(L)(Wo)`** is NEGATIVE, a small positive change in **`Wo`** causes a DECREASE in **`L`**. <br>\n",
    "If **`gradient(L)(Wo)`** is POSITIVE, a small positive change in **`Wo`** causes a INCREASE in **`L`**. <br>\n",
    "The magnitude or absolute value of **`gradient(L)(Wo)`** tells us how quickly `L` will change. \n",
    "\n",
    "We move **`Wo`** a little in the OPPOSITE direction of **`gradient(L)(Wo)`**, i.e. if the gradient is positive, we move `Wo` towards lower values; if the gradient is negative, we move `Wo` towards positive values until we reach the optimum value of `Wo` that will give the lowest loss `L`. In equation form: <br>\n",
    "**`(3.7) Wo -= learning_rate*gradient(L)(Wo)`**\n",
    "\n",
    "We don't want to get too far from the initial value `Wo` and the `learning_rate` helps manage that condition. "
   ]
  },
  {
   "cell_type": "markdown",
   "metadata": {},
   "source": [
    "<img src=\"./images/nn_learning_rate.png\" style=\"height: 300px;\" align=left> "
   ]
  },
  {
   "cell_type": "markdown",
   "metadata": {},
   "source": [
    "### 3.5.1. Learning Rate\n",
    "\n",
    "The choice of **`learning_rate`** or step-size has implications to the learning of the network. As shown in the figure above, we opt to take a step-size that  will help the training to converge. It follows that if the step-size is too small, training will take a long time before the network reaches the lowest loss possible (global minimum). A step-size that is too large may cause the network to NOT converge at all. "
   ]
  },
  {
   "cell_type": "markdown",
   "metadata": {},
   "source": [
    "### 3.6. Backpropagation"
   ]
  },
  {
   "cell_type": "markdown",
   "metadata": {},
   "source": [
    "We've considered above a case of data flowing in a forward pass without an activation function : given `x` we calculate `y_pred = dot(Wo,x)`, compute the loss `L`, solve for the tensor `gradient(L)(Wo)`, and update `Wo` accordingly. Now we consider having an activation function as intermediate layer that feeds on the input `x`. \n",
    "\n",
    "**I. How do we update `W` of the network?**"
   ]
  },
  {
   "cell_type": "markdown",
   "metadata": {},
   "source": [
    "<img src=\"./images/nn_feedforward.png\" style=\"height: 300px;\" align=left> "
   ]
  },
  {
   "cell_type": "markdown",
   "metadata": {},
   "source": [
    "### 3.6.1. Chain Rule\n"
   ]
  },
  {
   "cell_type": "markdown",
   "metadata": {},
   "source": [
    "Assuming that the activation function used above is RELU, the network is described by the following:\n",
    "\n",
    "**`f(W) = relu(dot(W,X) + b)`** <br>\n",
    "**`f(W) = y_pred`** <br>\n",
    "**`loss_value = loss(y_pred,y)`** <br> \n",
    "\n",
    "But this time **`L`** is not explicitly a function of **`W`**. Instead, it is a function **`relu(z)`**, where **` (3.8) z=dot(W,X) + b`**.\n",
    "\n",
    "**`(3.9) loss_value = L(relu)`** <br> \n",
    "**`(3.10) derivative(L)(relu) = gradient(L)(relu)`** <br>\n",
    "\n",
    "We can map the value of `relu` with the function `z`\n",
    "\n",
    "**`(3.11) relu_value = relu(z)`**<br>\n",
    "**`(3.12) derivative(relu)(z) = gradient(relu)(z)`** <br>\n",
    "\n",
    "We see now that we can map the values of `z` with `W` <br>\n",
    "**`(3.13) z_value = z(W)`**<br>\n",
    "**`(3.14) derivative(z)(W) = gradient(z)(W)`** <br>\n",
    "\n",
    "**Chain rule** states that we can compute for the derivative of `L` with respect to `W` by:  <br> \n",
    "\n",
    "**`(3.15) derivative(L)(W)  =  derivative(L)(relu) * derivative(relu)(z) * derivative(z)(W) * `**\n",
    "\n",
    "And so the value for the gradient is: <br>\n",
    "**`(3.16) gradient(L)(W)  =  gradient(L)(relu) * gradient(relu)(z) * gradient(z)(W) * `**\n",
    "\n",
    "We can now update **`W`** as follows: <br>\n",
    "**`(3.17) W -= learning_rate*gradient(L)(W)`**"
   ]
  },
  {
   "cell_type": "markdown",
   "metadata": {},
   "source": [
    "### 3.6.2. Mini-batch Stochastic Gradient Descent\n",
    "\n",
    "In cases where we have tens of millions of parameters/coefficients (like in high-definition image data), we may want to run our training in `mini-batches`. Our pipeline will then go through the following steps:\n",
    "\n",
    "1. Draw a batch of training samples `X` and corresponding targets `y`.\n",
    "2. Run the network on `X` to obtain predictions` y_pred`.\n",
    "3. Compute the loss of the network on the batch, `L(y_pred,y)`.\n",
    "4. Compute the gradient of the loss with regard to the network’s parameters `gradient(L)(W) `  (backpropagation).\n",
    "5. Move the parameters a little in the opposite direction from the gradient—`W -= step * gradient`- reducing the loss on the batch a bit.\n",
    "\n",
    "\n",
    "Instead of the usual `Gradient Descent`, here we use `Mini-batch Stochastic Gradient Descent (SGD)`. The `stochastic` term comes from the fact that each batch is chosen in `random` manner. "
   ]
  },
  {
   "cell_type": "markdown",
   "metadata": {},
   "source": [
    "### 3.6.3. Optimizers\n",
    "\n",
    "We just saw that we can use  optimizers such as `Gradient Descent` and its variant `Mini-batch Stochastic Gradient Descent`. Other optimizers offered by Tensorflow [can be found in this page.](https://www.tensorflow.org/api_docs/python/tf/keras/optimizers)\n"
   ]
  },
  {
   "cell_type": "markdown",
   "metadata": {},
   "source": [
    "### 3.6.4. The Vanishing Gradient Problem\n",
    "\n",
    "The gradient in equation **`3.16`** tends to become smaller and smaller as it feedbacks to the layers of a very deep network. This is the **_Vanishing Gradient Problem_**. When **`gradient(L)(W)`** becomes very small, it follows that the weight given by equation **`3.17`** doesn't update. Thus, the network stops learning. \n"
   ]
  },
  {
   "cell_type": "markdown",
   "metadata": {},
   "source": [
    "# 4. Artificial Neural Networks Architecture"
   ]
  },
  {
   "cell_type": "markdown",
   "metadata": {},
   "source": [
    "### 4.1. Network Layers"
   ]
  },
  {
   "cell_type": "markdown",
   "metadata": {},
   "source": [
    "We are now ready to discuss thoroughly the binary classifier model we built above. <br>\n",
    "The layers below, when combined, become a **_network_** or **_model_**. Here we are still preparing our network prior any training."
   ]
  },
  {
   "cell_type": "markdown",
   "metadata": {},
   "source": [
    "```python\n",
    "    modelA = keras.Sequential([\n",
    "        tf.keras.layers.Dense(2, activation='relu', input_shape=[len(X_train[0])]),\n",
    "        tf.keras.layers.Dense(2, activation='relu'),\n",
    "        tf.keras.layers.Dense(1,   activation='sigmoid')\n",
    "\n",
    "      ])\n",
    "    ```"
   ]
  },
  {
   "cell_type": "markdown",
   "metadata": {},
   "source": [
    " The type of layer to be used should be appropriate to `tensor` format and datatype. Below are real-world examples of  `tensor` datatypes. <br> \n",
    "\n",
    "- Vector Data: **`2D tensors`** with shape `(samples, features)` \n",
    "- Timeseries or Sequence Data: **`3D tensors`** with shape `(samples, timesteps, features)` \n",
    "- Images: **`4D tensors`**  with shape `(samples,height,width,channels)`\n",
    "- Video: **`5D tensors`**  with shape `(samples, frames, height, width, channels)`"
   ]
  },
  {
   "cell_type": "code",
   "execution_count": null,
   "metadata": {},
   "outputs": [],
   "source": [
    "# Question 6: Identify the tensor data type and shape of our churn train dataset. \n",
    "\n",
    "# SC"
   ]
  },
  {
   "cell_type": "markdown",
   "metadata": {},
   "source": [
    "Another way of looking at stacking **compatible** layers is creating a multi-stage data transformation pipeline. The network should follow a strict layer compatibility since one layer will only process an input tensor of certain shape and output a tensor that also has a certain shape. Again, take a look at this example: <br>\n",
    "\n",
    " **` (4.1) tf.keras.layers.Dense(2, activation='relu', input_shape=[len(X_train[0])])`**\n",
    " \n",
    "Note that every input data has a **`input_shape=[len(X_train[0])] =[12]`**. <br>\n",
    "We are creating a layer that accepts a `2D tensor` where the first dimension is `(12,)`. <br>\n",
    "This layer outputs a first dimension transformed from `(12,)` to `(2,)`. \n",
    "\n",
    "The second layer connected to the layer above, therefore, should accept a `2D tensor` having a first dimension of `(2,)`. <br>\n",
    "\n",
    "**` (4.2) tf.keras.layers.Dense(2, activation='relu')`**\n",
    "\n",
    "Keras layers are dynamically compatible. We need not define the input shape for the second layer because it already assumes that the input shape is the same as the shape of the layer output preceding it. The `summary` class provides a useful look-up of each layer's output shape as well as the total number of trainable parameters.  "
   ]
  },
  {
   "cell_type": "code",
   "execution_count": null,
   "metadata": {
    "scrolled": true
   },
   "outputs": [],
   "source": [
    "# Print the model summary\n",
    "modelA.summary()"
   ]
  },
  {
   "cell_type": "markdown",
   "metadata": {},
   "source": [
    "### 4.2. Network Compilation\n",
    "\n",
    "During the compilation, we configure the learning process. Here we specify our **`optimizer`**. It determines how the network (trainable parameters) will be updated by a variant of stochastic gradient descent. We also define the **`loss (objective) function`** which is used as a feedback signal for learning the weight tensors `W`. "
   ]
  },
  {
   "cell_type": "markdown",
   "metadata": {},
   "source": [
    "```python\n",
    "    modelA.compile(loss='binary_crossentropy',\n",
    "                  optimizer='adam',\n",
    "                  metrics=['accuracy'])\n",
    "    ```"
   ]
  },
  {
   "cell_type": "markdown",
   "metadata": {},
   "source": [
    "### 4.3. Network Training\n",
    "\n",
    "The network will start to iterate on the training data `10` times. One epoch is one iteration over all the training data. At each iteration, the network will compute the gradients of the weights with regard to the loss on the batch, and update the weights accordingly. After these `10` epochs, the network will have performed `350` gradient updates (`35` per epoch), and the loss of the network will be sufficiently low that the network will be capable of predicting the churn. Below, we now define the `batch_size=100`. The network will start to iterate on the `train_dataset` in `100` mini-batches, `10` times over. The training results is stored in a container call `historyA`. "
   ]
  },
  {
   "cell_type": "markdown",
   "metadata": {
    "scrolled": true
   },
   "source": [
    " ```python\n",
    "    historyA = modelA.fit(X_train, y_train,\n",
    "                        epochs=20, \n",
    "                        batch_size=100,\n",
    "                        validation_data=(X_val, y_val), \n",
    "                        verbose=1,\n",
    "                        callbacks=[tensorboard_callbackA])\n",
    "```"
   ]
  },
  {
   "cell_type": "markdown",
   "metadata": {},
   "source": [
    "Tensorflow offers  **TensorBoard** , an elegant visualization toolkit that allows us to track the experimentation results. We added more lines to our code above: we first define **`logdirA`** which will house all our training **`logsA`**.\n",
    "Later we'll see how we can use this historical logs for future experiments. Second, we set our training **`callback`** to **`tensorboard_callbackA`**."
   ]
  },
  {
   "cell_type": "markdown",
   "metadata": {},
   "source": [
    "  ```python\n",
    "logdirA = os.path.join(\"logsA\", datetime.datetime.now().strftime(\"%Y%m%d-%H%M%S\"))\n",
    "tensorboard_callbackA = tf.keras.callbacks.TensorBoard(logdirA, histogram_freq=1)\n",
    "\n",
    "```"
   ]
  },
  {
   "cell_type": "markdown",
   "metadata": {},
   "source": [
    "We start the **TensorBoard** within the notebook using magics. We can even start it *prior* training to monitor progress. This extension will be very useful once we deal with high dimensional tensor data where the output of hidden layers is not intuitive. "
   ]
  },
  {
   "cell_type": "code",
   "execution_count": 79,
   "metadata": {
    "scrolled": false
   },
   "outputs": [
    {
     "data": {
      "text/html": [
       "\n",
       "      <iframe id=\"tensorboard-frame-2ac8e7a719decbfb\" width=\"100%\" height=\"800\" frameborder=\"0\">\n",
       "      </iframe>\n",
       "      <script>\n",
       "        (function() {\n",
       "          const frame = document.getElementById(\"tensorboard-frame-2ac8e7a719decbfb\");\n",
       "          const url = new URL(\"/\", window.location);\n",
       "          const port = 6006;\n",
       "          if (port) {\n",
       "            url.port = port;\n",
       "          }\n",
       "          frame.src = url;\n",
       "        })();\n",
       "      </script>\n",
       "    "
      ],
      "text/plain": [
       "<IPython.core.display.HTML object>"
      ]
     },
     "metadata": {},
     "output_type": "display_data"
    }
   ],
   "source": [
    "%tensorboard --logdir=logs"
   ]
  },
  {
   "cell_type": "markdown",
   "metadata": {},
   "source": [
    "### 4.4. Network Evaluation\n",
    "\n",
    "We check how our model fair with the `X_test` and `y_test`. The `evaluate` class always have the first element `[0]` as  **`loss`**. You'll see later that we can add and evaluate on more metrics other than `loss` and `accuracy`. "
   ]
  },
  {
   "cell_type": "markdown",
   "metadata": {
    "scrolled": true
   },
   "source": [
    " ```python\n",
    "modelA.evaluate(X_test, y_test)\n",
    "loss = modelA.evaluate(X_test, y_test)[0]\n",
    "```"
   ]
  },
  {
   "cell_type": "markdown",
   "metadata": {},
   "source": [
    "### 4.5. Network Prediction\n",
    "\n",
    "With the trained model, we can now use it to predict new samples. "
   ]
  },
  {
   "cell_type": "markdown",
   "metadata": {},
   "source": [
    "```python\n",
    "modelA.predict(X_test)\n",
    " ```\n",
    " "
   ]
  },
  {
   "cell_type": "markdown",
   "metadata": {},
   "source": [
    "---"
   ]
  },
  {
   "cell_type": "markdown",
   "metadata": {},
   "source": [
    "## Exercise 1:"
   ]
  },
  {
   "cell_type": "markdown",
   "metadata": {},
   "source": [
    "\n",
    "Go back to the churn dataset. Construct your another network that will predict **`Exited`**. \n",
    "\n",
    "1. Make use of the previously-prepared `X_train`, `y_train`, `X_test` and `y_test`.\n",
    "\n",
    "2. Construct the model such that you have the following layers stacked in `Sequential` manner. Name it **`modelB`**. \n",
    "\n",
    "` Dense, 32 units, relu\n",
    " Dense, 32 units, relu\n",
    " Dense, 2 unit, softmax\n",
    "  `\n",
    "3. How many trainable parameters/coefficients do you have? Compare it with the `modelA` we created above. \n",
    "\n",
    "4. Compile your model using the following hyperparameters: <br>\n",
    "\n",
    "```python\n",
    "        loss=tf.keras.losses.SparseCategoricalCrossentropy(from_logits=True)\n",
    "        optimizer=tf.keras.optimizers.RMSprop( learning_rate=0.01, \n",
    "                                               rho=0.8, momentum=0.01, \n",
    "                                               epsilon=1e-07, \n",
    "                                               centered=False, \n",
    "                                              metrics=['accuracy'])\n",
    "\n",
    "```\n",
    "5. Create a `logsB` directory object and `tensorboard_callbackB` for your `modelB`.\n",
    "\n",
    "6. Train your model on the `X_train` and `y_train`. Assign the results of `historyB = modelB.fit()`. <br>\n",
    "   The rest of the parameters remain except the following: <br>\n",
    "    - Use **`epochs=20`** and add **`batch_size=100`** parameter. \n",
    "    \n",
    "7. Evaluate your `modelB`. \n",
    "   Launch your **`TensorBoard`** to monitor the performance of your `modelB`. \n",
    "    \n",
    "8. Vary your network's number of `Dense` layers and `units` and try to change the `modelB.compile` configuration. <br>   Check how the results change with its variation. \n",
    "\n",
    "10. Compare the outputs of `modelA` and `modelB`. How do you you interpret each of the result of their output layers?     What if the output layer is just a `Dense` layer without activation function?"
   ]
  },
  {
   "cell_type": "code",
   "execution_count": 105,
   "metadata": {},
   "outputs": [],
   "source": [
    "# 2. Construct the model such that you have the following layers stacked in Sequential manner. Name it modelB.\n",
    "# SC\n",
    "\n",
    "modelB = tf.keras.Sequential([\n",
    "        \n",
    "    tf.keras.layers.Dense(32, activation='relu', input_shape=[len(X_train[0])]),\n",
    "    tf.keras.layers.Dense(32, activation='relu'),\n",
    "    tf.keras.layers.Dense(2, activation='sigmoid' )\n",
    "        \n",
    "  ])\n"
   ]
  },
  {
   "cell_type": "code",
   "execution_count": 120,
   "metadata": {},
   "outputs": [
    {
     "name": "stdout",
     "output_type": "stream",
     "text": [
      "Model: \"sequential_7\"\n",
      "_________________________________________________________________\n",
      "Layer (type)                 Output Shape              Param #   \n",
      "=================================================================\n",
      "dense_22 (Dense)             (None, 32)                416       \n",
      "_________________________________________________________________\n",
      "dense_23 (Dense)             (None, 32)                1056      \n",
      "_________________________________________________________________\n",
      "dense_24 (Dense)             (None, 2)                 66        \n",
      "=================================================================\n",
      "Total params: 1,538\n",
      "Trainable params: 1,538\n",
      "Non-trainable params: 0\n",
      "_________________________________________________________________\n"
     ]
    }
   ],
   "source": [
    "# 3. How many trainable parameters/coefficients do you have?\n",
    "\n",
    "# SC\n",
    "modelB.summary()"
   ]
  },
  {
   "cell_type": "code",
   "execution_count": 107,
   "metadata": {},
   "outputs": [],
   "source": [
    "# 4. Compile your model using the following hyperparameters\n",
    "\n",
    "# SC\n",
    "modelB.compile(loss=tf.keras.losses.SparseCategoricalCrossentropy(from_logits=True),\n",
    "              optimizer=tf.keras.optimizers.RMSprop(learning_rate=0.01, \n",
    "                                                    rho=0.8, \n",
    "                                                    momentum=0.01, \n",
    "                                                    epsilon=1e-07,\n",
    "                                                    centered=False),\n",
    "               metrics=['accuracy'])\n",
    "\n",
    "\n",
    "\n"
   ]
  },
  {
   "cell_type": "code",
   "execution_count": 121,
   "metadata": {},
   "outputs": [],
   "source": [
    "# 5. Create a new logs_reg directory where you store your training logs for model_reg. Set your tensorboard_callback_reg.\n",
    "\n",
    "# SC\n",
    "\n",
    "logDirB = os.path.join(\"logs\", \"modelB\", datetime.datetime.now().strftime(\"%Y%m%d-%H%M%S\"))\n",
    "tensorboard_callbackB = tf.keras.callbacks.TensorBoard(logDirB, histogram_freq=1)"
   ]
  },
  {
   "cell_type": "code",
   "execution_count": 122,
   "metadata": {
    "scrolled": true
   },
   "outputs": [
    {
     "name": "stdout",
     "output_type": "stream",
     "text": [
      "Epoch 1/20\n",
      "64/64 [==============================] - 2s 36ms/step - loss: 0.5069 - accuracy: 0.7964 - val_loss: 0.5413 - val_accuracy: 0.7856\n",
      "Epoch 2/20\n",
      "64/64 [==============================] - 1s 8ms/step - loss: 1.4979 - accuracy: 0.7912 - val_loss: 0.5367 - val_accuracy: 0.7856\n",
      "Epoch 3/20\n",
      "64/64 [==============================] - 1s 12ms/step - loss: 2.9194 - accuracy: 0.7964 - val_loss: 0.5427 - val_accuracy: 0.7856\n",
      "Epoch 4/20\n",
      "64/64 [==============================] - 1s 11ms/step - loss: 0.5053 - accuracy: 0.7964 - val_loss: 0.6528 - val_accuracy: 0.7856\n",
      "Epoch 5/20\n",
      "64/64 [==============================] - 1s 10ms/step - loss: 0.6601 - accuracy: 0.7955 - val_loss: 0.5496 - val_accuracy: 0.7856\n",
      "Epoch 6/20\n",
      "64/64 [==============================] - 1s 11ms/step - loss: 0.6107 - accuracy: 0.7964 - val_loss: 0.5331 - val_accuracy: 0.7856\n",
      "Epoch 7/20\n",
      "64/64 [==============================] - 1s 9ms/step - loss: 0.5063 - accuracy: 0.7964 - val_loss: 0.5515 - val_accuracy: 0.7856\n",
      "Epoch 8/20\n",
      "64/64 [==============================] - 1s 8ms/step - loss: 1.1541 - accuracy: 0.7964 - val_loss: 0.5398 - val_accuracy: 0.7856\n",
      "Epoch 9/20\n",
      "64/64 [==============================] - 0s 8ms/step - loss: 0.5061 - accuracy: 0.7964 - val_loss: 0.5301 - val_accuracy: 0.7856\n",
      "Epoch 10/20\n",
      "64/64 [==============================] - 1s 8ms/step - loss: 1.0243 - accuracy: 0.7936 - val_loss: 0.5394 - val_accuracy: 0.7856\n",
      "Epoch 11/20\n",
      "64/64 [==============================] - 1s 9ms/step - loss: 0.5116 - accuracy: 0.7964 - val_loss: 1.1380 - val_accuracy: 0.6712\n",
      "Epoch 12/20\n",
      "64/64 [==============================] - 1s 10ms/step - loss: 0.5164 - accuracy: 0.7944 - val_loss: 0.5494 - val_accuracy: 0.7856\n",
      "Epoch 13/20\n",
      "64/64 [==============================] - 1s 8ms/step - loss: 1.0769 - accuracy: 0.7964 - val_loss: 0.5475 - val_accuracy: 0.7856\n",
      "Epoch 14/20\n",
      "64/64 [==============================] - 1s 10ms/step - loss: 0.5091 - accuracy: 0.7964 - val_loss: 0.5301 - val_accuracy: 0.7856\n",
      "Epoch 15/20\n",
      "64/64 [==============================] - 0s 6ms/step - loss: 0.5802 - accuracy: 0.7964 - val_loss: 0.5348 - val_accuracy: 0.7856\n",
      "Epoch 16/20\n",
      "64/64 [==============================] - 0s 6ms/step - loss: 3.0185 - accuracy: 0.7941 - val_loss: 0.5461 - val_accuracy: 0.7856\n",
      "Epoch 17/20\n",
      "64/64 [==============================] - 1s 11ms/step - loss: 0.5065 - accuracy: 0.7964 - val_loss: 0.5388 - val_accuracy: 0.7856\n",
      "Epoch 18/20\n",
      "64/64 [==============================] - 1s 18ms/step - loss: 1.4323 - accuracy: 0.7964 - val_loss: 0.5432 - val_accuracy: 0.7856\n",
      "Epoch 19/20\n",
      "64/64 [==============================] - 1s 10ms/step - loss: 0.5094 - accuracy: 0.7964 - val_loss: 0.5353 - val_accuracy: 0.7856\n",
      "Epoch 20/20\n",
      "64/64 [==============================] - 1s 10ms/step - loss: 0.5143 - accuracy: 0.7964 - val_loss: 0.5237 - val_accuracy: 0.7856\n"
     ]
    }
   ],
   "source": [
    "# 6.Train your model on the train_data and test_data. The rest of the parameters remain except the following\n",
    "\n",
    "# SC\n",
    "historyB = modelB.fit(X_train, y_train,\n",
    "                    epochs=20, \n",
    "                    batch_size=100,\n",
    "                    validation_data=(X_val, y_val), \n",
    "                    verbose=1,\n",
    "                    callbacks=[tensorboard_callbackB])\n"
   ]
  },
  {
   "cell_type": "code",
   "execution_count": 110,
   "metadata": {},
   "outputs": [
    {
     "name": "stdout",
     "output_type": "stream",
     "text": [
      "63/63 [==============================] - 1s 3ms/step - loss: 0.4927 - accuracy: 0.8045\n"
     ]
    },
    {
     "data": {
      "text/plain": [
       "[0.4927012324333191, 0.8044999837875366]"
      ]
     },
     "execution_count": 110,
     "metadata": {},
     "output_type": "execute_result"
    }
   ],
   "source": [
    "# 7. Evaluate your `modelB`. \n",
    "modelB.evaluate(X_test, y_test)\n"
   ]
  },
  {
   "cell_type": "code",
   "execution_count": 111,
   "metadata": {},
   "outputs": [
    {
     "name": "stdout",
     "output_type": "stream",
     "text": [
      "63/63 [==============================] - 0s 4ms/step - loss: 0.4927 - accuracy: 0.8045\n"
     ]
    }
   ],
   "source": [
    "loss = modelB.evaluate(X_test, y_test)[0]"
   ]
  },
  {
   "cell_type": "code",
   "execution_count": 112,
   "metadata": {},
   "outputs": [
    {
     "data": {
      "text/plain": [
       "array([[0.6701729 , 0.32982707],\n",
       "       [0.6701729 , 0.32982707],\n",
       "       [0.6701729 , 0.32982707],\n",
       "       ...,\n",
       "       [0.6701729 , 0.32982707],\n",
       "       [0.6701729 , 0.32982707],\n",
       "       [0.6701729 , 0.32982707]], dtype=float32)"
      ]
     },
     "execution_count": 112,
     "metadata": {},
     "output_type": "execute_result"
    }
   ],
   "source": [
    "modelB.predict(X_test)"
   ]
  },
  {
   "cell_type": "code",
   "execution_count": 123,
   "metadata": {},
   "outputs": [
    {
     "data": {
      "text/plain": [
       "Reusing TensorBoard on port 6006 (pid 12628), started 0:54:37 ago. (Use '!kill 12628' to kill it.)"
      ]
     },
     "metadata": {},
     "output_type": "display_data"
    },
    {
     "data": {
      "text/html": [
       "\n",
       "      <iframe id=\"tensorboard-frame-460253e53e95b696\" width=\"100%\" height=\"800\" frameborder=\"0\">\n",
       "      </iframe>\n",
       "      <script>\n",
       "        (function() {\n",
       "          const frame = document.getElementById(\"tensorboard-frame-460253e53e95b696\");\n",
       "          const url = new URL(\"/\", window.location);\n",
       "          const port = 6006;\n",
       "          if (port) {\n",
       "            url.port = port;\n",
       "          }\n",
       "          frame.src = url;\n",
       "        })();\n",
       "      </script>\n",
       "    "
      ],
      "text/plain": [
       "<IPython.core.display.HTML object>"
      ]
     },
     "metadata": {},
     "output_type": "display_data"
    }
   ],
   "source": [
    "# 8. Compare the outputs of modelA and modelB. How do you you interpret each of the result of their output layers?\n",
    "\n",
    "# SC \n",
    "%tensorboard --logdir=logs"
   ]
  },
  {
   "cell_type": "markdown",
   "metadata": {},
   "source": [
    "**`modelA`**: \n",
    "\n",
    "\n",
    "**`modelB`**: \n",
    "\n",
    "\n",
    "**`Dense without Activation Function`**: "
   ]
  },
  {
   "cell_type": "code",
   "execution_count": 114,
   "metadata": {},
   "outputs": [
    {
     "data": {
      "image/png": "[encoded data removed]",
      "text/plain": [
       "<Figure size 432x432 with 1 Axes>"
      ]
     },
     "metadata": {
      "needs_background": "light"
     },
     "output_type": "display_data"
    }
   ],
   "source": [
    "compareValLoss(historyA, historyB, 'modelA', 'modelB')"
   ]
  },
  {
   "cell_type": "code",
   "execution_count": 115,
   "metadata": {},
   "outputs": [
    {
     "data": {
      "image/png": "[encoded data removed]",
      "text/plain": [
       "<Figure size 432x432 with 1 Axes>"
      ]
     },
     "metadata": {
      "needs_background": "light"
     },
     "output_type": "display_data"
    }
   ],
   "source": [
    "compareValAcc(historyA, historyB, 'modelA', 'modelB')"
   ]
  },
  {
   "cell_type": "markdown",
   "metadata": {},
   "source": [
    "---"
   ]
  },
  {
   "cell_type": "markdown",
   "metadata": {},
   "source": [
    "## 5. Improving Neural Network Performance\n",
    "\n",
    "We can further improve our artificial neural network performance. <br> \n",
    "Listed below are some of the commonly-used modification to keep the model from overfitting."
   ]
  },
  {
   "cell_type": "markdown",
   "metadata": {},
   "source": [
    "### 5.1. Adding more training data\n",
    "Deep neural networks perform better with high-volume data. "
   ]
  },
  {
   "cell_type": "markdown",
   "metadata": {},
   "source": [
    " ### 5.2. Reduce  network capacity\n",
    "We saw in the Exercises that the accuracy of the network plateaus at a certain value. Moreover, we see a difference between training and validation performance. When our network has more capacity compared to the amount of training data we have, our network largely overfits our data. Having fewer `units`, like our first neural network may handle the churn data better than our neural network because it may overfit less. "
   ]
  },
  {
   "cell_type": "markdown",
   "metadata": {},
   "source": [
    "### Recall on Metrics"
   ]
  },
  {
   "cell_type": "markdown",
   "metadata": {},
   "source": [
    "There are few metrics that can also be computed and are helpful in evaluating model performance. \n",
    "\n",
    "*   **`False Negatives`** and **`False Positives`** are samples that were **incorrectly** classified\n",
    "*   **`True Negatives`** and **`True Positives`** are samples that were **correctly** classified\n",
    "*   **`Accuracy`** is the percentage of examples correctly classified <br>  \n",
    "*   **`Precision`** is the percentage of **predicted** positives that were correctly classified <br>\n",
    "*   **`Recall`** is the percentage of **actual** positives that were correctly classified <br>\n",
    "*   **`AUC`** refers to the Area Under the Curve of a Receiver Operating Characteristic curve (ROC-AUC). This metric is equal to the probability that a classifier will rank a random positive sample higher than than a random negative sample.\n",
    "\n",
    "**NB**: We can have `99.8%+` accuracy on this task by predicting False all the time. Hence, accuracy is not always useful."
   ]
  },
  {
   "cell_type": "code",
   "execution_count": 116,
   "metadata": {},
   "outputs": [],
   "source": [
    "METRICS = [\n",
    "      tf.keras.metrics.TruePositives(name='tp'),\n",
    "      tf.keras.metrics.FalsePositives(name='fp'),\n",
    "      tf.keras.metrics.TrueNegatives(name='tn'),\n",
    "      tf.keras.metrics.FalseNegatives(name='fn'), \n",
    "      tf.keras.metrics.BinaryAccuracy(name='accuracy'),\n",
    "      tf.keras.metrics.Precision(name='precision'),\n",
    "      tf.keras.metrics.Recall(name='recall'),\n",
    "      tf.keras.metrics.AUC(name='auc'),\n",
    "]"
   ]
  },
  {
   "cell_type": "code",
   "execution_count": 117,
   "metadata": {},
   "outputs": [],
   "source": [
    "EPOCHS = 20\n",
    "BATCH_SIZE = 2048"
   ]
  },
  {
   "cell_type": "markdown",
   "metadata": {},
   "source": [
    "We now build our baseline model inside a function to allow re-usability during experimentation. "
   ]
  },
  {
   "cell_type": "code",
   "execution_count": 118,
   "metadata": {},
   "outputs": [],
   "source": [
    "def build_model(metrics = METRICS, output_bias=None):\n",
    "    model = tf.keras.Sequential([\n",
    "            tf.keras.layers.Dense(32, activation='relu', input_shape=[len(train_data.keys())]),\n",
    "            tf.keras.layers.Dense(32, activation='relu'),\n",
    "            tf.keras.layers.Dense(1, activation='sigmoid', \n",
    "                                 bias_initializer=output_bias)\n",
    "             ])\n",
    "\n",
    "    model.compile(\n",
    "          optimizer=tf.keras.optimizers.Adam(lr=1e-3),\n",
    "          loss=tf.keras.losses.BinaryCrossentropy(),\n",
    "          metrics=METRICS)\n",
    "    \n",
    "    return model"
   ]
  },
  {
   "cell_type": "markdown",
   "metadata": {},
   "source": [
    "## Exercise 2:\n",
    "\n",
    "Build and name `modelC` using the `build_model` function above."
   ]
  },
  {
   "cell_type": "code",
   "execution_count": null,
   "metadata": {},
   "outputs": [],
   "source": [
    "# SC\n",
    "... = ...\n",
    "... = ...evaluate(X_train, y_train, batch_size=BATCH_SIZE, verbose=0)"
   ]
  },
  {
   "cell_type": "markdown",
   "metadata": {},
   "source": [
    "### 5.3. Initializing Output Layer Bias"
   ]
  },
  {
   "cell_type": "markdown",
   "metadata": {},
   "source": [
    "We know that our data is **IMBALANCED** and that the initial bias of the network is rarely correct. <br>\n",
    "We can set the initial bias in our `output layer` to reflect the imbalance. This can also help the network reach convergence."
   ]
  },
  {
   "cell_type": "code",
   "execution_count": null,
   "metadata": {},
   "outputs": [],
   "source": [
    "init_bias = np.log([count_churn/count_retain])\n",
    "output_bias = tf.keras.initializers.Constant(init_bias)\n",
    "print(\"Initial Bias: {}\".format(init_bias[0]))"
   ]
  },
  {
   "cell_type": "markdown",
   "metadata": {},
   "source": [
    "## Exercise 3:\n",
    "\n",
    "1. Build another model named `modelD`. Make use of the `output_bias` above. \n",
    "2. Compare the loss of `modelC` and `modelD` if the bias initialization helped. "
   ]
  },
  {
   "cell_type": "code",
   "execution_count": null,
   "metadata": {},
   "outputs": [],
   "source": [
    "# SC \n",
    "\n",
    "# 1. \n",
    "... = build_model(output_bias=output_bias)\n",
    "... = ...evaluate(X_train, y_train, batch_size=BATCH_SIZE, verbose=0)"
   ]
  },
  {
   "cell_type": "code",
   "execution_count": null,
   "metadata": {},
   "outputs": [],
   "source": [
    "modelD_eval"
   ]
  },
  {
   "cell_type": "markdown",
   "metadata": {},
   "source": [
    "We keep the initial weights in a `checkpoint file`, and load them into each model before training. <br> \n",
    "By doing so we can **compare various training runs**. "
   ]
  },
  {
   "cell_type": "code",
   "execution_count": null,
   "metadata": {},
   "outputs": [],
   "source": [
    "initial_weights = os.path.join(tempfile.mkdtemp(),'initial_weights')\n",
    "modelD.save_weights(initial_weights)"
   ]
  },
  {
   "cell_type": "code",
   "execution_count": null,
   "metadata": {},
   "outputs": [],
   "source": [
    "# SC\n",
    "\n",
    "# 2. \n",
    "print(\"modelC Loss:{}\".format(modelC_eval[0]))\n",
    "print(\"modelD Loss:{}\".format(modelD_eval[0]))"
   ]
  },
  {
   "cell_type": "markdown",
   "metadata": {},
   "source": [
    "## Exercise 4:\n",
    "\n",
    "1. Build `modelE` using the `initial_weights` above. However, set the `output` layer bias to `0.0`. \n",
    "2. Set-up your `tensorboard_callback` and `logdir` for `modelE`.\n",
    "2. Fit `modelE` and assign it to `zero_bias_history`"
   ]
  },
  {
   "cell_type": "code",
   "execution_count": null,
   "metadata": {},
   "outputs": [],
   "source": [
    "# SC\n",
    "\n",
    "# 1. \n",
    "...= build_model()\n",
    "....load_weights(initial_weights)\n",
    "....layers[-1].bias.assign([0.0])\n",
    "\n",
    "# 2. \n",
    "... = os.path.join(\"logs\", \"...\", datetime.datetime.now().strftime(\"%Y%m%d-%H%M%S\"))\n",
    "... = tf.keras.callbacks.TensorBoard(..., histogram_freq=1)\n",
    "\n",
    "# 3. \n",
    "zero_bias_history = modelE.fit(\n",
    "    X_train,\n",
    "    y_train,\n",
    "    batch_size=BATCH_SIZE,\n",
    "    epochs=20,\n",
    "    validation_data=(X_val, y_val),\n",
    "    verbose=0,\n",
    "    callbacks = [...] )"
   ]
  },
  {
   "cell_type": "markdown",
   "metadata": {},
   "source": [
    "## Exercise 5:\n",
    "\n",
    "1. Build `modelF` using the `initial_weights` above without changing the `output` layer bias.\n",
    "2. Set-up your `tensorboard_callback` and `logdir` for `modelF`.\n",
    "2. Fit `modelF` and assign it to `careful_bias_history`"
   ]
  },
  {
   "cell_type": "code",
   "execution_count": null,
   "metadata": {},
   "outputs": [],
   "source": [
    "# SC\n",
    "\n",
    "# 1. \n",
    "... = build_model()\n",
    "....load_weights(initial_weights)\n",
    "\n",
    "# 2. \n",
    "... = os.path.join(\"logs\", \"...\", datetime.datetime.now().strftime(\"%Y%m%d-%H%M%S\"))\n",
    "... = tf.keras.callbacks.TensorBoard(..., histogram_freq=1)\n",
    "\n",
    "# 3. \n",
    "... = ....fit(\n",
    "     X_train,\n",
    "    y_train,\n",
    "    batch_size=BATCH_SIZE,\n",
    "    epochs=20,\n",
    "    validation_data=(X_val, y_val), \n",
    "    verbose=0,\n",
    "    callbacks = [...])"
   ]
  },
  {
   "cell_type": "code",
   "execution_count": null,
   "metadata": {},
   "outputs": [],
   "source": [
    "compareValLoss(zero_bias_history, careful_bias_history, 'Zero Bias', 'Careful Bias')"
   ]
  },
  {
   "cell_type": "markdown",
   "metadata": {},
   "source": [
    "We see from the comparative plot that the model with careful initialization **`modelF`** has smaller `loss`. Let's use it in our actual training. \n",
    "\n",
    "There are other callbacks that we can add to our training.  <br>\n",
    "The **Early Stopping Callback** allows us to stop the training when a monitored quantity has **stopped improving**. <br>\n",
    "The **patience** parameter is the amount of epochs to check for improvement."
   ]
  },
  {
   "cell_type": "code",
   "execution_count": null,
   "metadata": {},
   "outputs": [],
   "source": [
    "early_stopping = tf.keras.callbacks.EarlyStopping(\n",
    "    monitor='val_auc', \n",
    "    verbose=1,\n",
    "    patience=10,\n",
    "    mode='max',\n",
    "    restore_best_weights=True)"
   ]
  },
  {
   "cell_type": "markdown",
   "metadata": {},
   "source": [
    "## Exercise 6:\n",
    "\n",
    "1. Build `modelG` using the `initial_weights` above without changing the `output` layer bias.\n",
    "2. Set-up your `tensorboard_callback` and `logdir` for `modelF`.\n",
    "2. Fit `modelF` and assign it to `baseline_history`. Don't forget to add `early_stopping` to your `callbacks`."
   ]
  },
  {
   "cell_type": "code",
   "execution_count": null,
   "metadata": {},
   "outputs": [],
   "source": [
    "# SC\n",
    "\n",
    "# 1. \n",
    "... = build_model()\n",
    "....load_weights(initial_weights)\n",
    "\n",
    "# 2. \n",
    "... = os.path.join(\"logs\", \"...\", datetime.datetime.now().strftime(\"%Y%m%d-%H%M%S\"))\n",
    "... = tf.keras.callbacks.TensorBoard(..., histogram_freq=1)\n",
    "\n",
    "# 3. \n",
    "baseline_history = modelG.fit(\n",
    "    X_train,\n",
    "    y_train,\n",
    "    batch_size=BATCH_SIZE,\n",
    "    epochs=EPOCHS,\n",
    "    validation_data=(X_val, y_val), \n",
    "    verbose=0,\n",
    "    callbacks = [..., ...])"
   ]
  },
  {
   "cell_type": "code",
   "execution_count": null,
   "metadata": {
    "scrolled": false
   },
   "outputs": [],
   "source": [
    "plot_metrics(baseline_history)"
   ]
  },
  {
   "cell_type": "markdown",
   "metadata": {},
   "source": [
    "### Metrics Evaluation"
   ]
  },
  {
   "cell_type": "code",
   "execution_count": 125,
   "metadata": {},
   "outputs": [
    {
     "ename": "NameError",
     "evalue": "name 'modelG' is not defined",
     "output_type": "error",
     "traceback": [
      "\u001b[1;31m---------------------------------------------------------------------------\u001b[0m",
      "\u001b[1;31mNameError\u001b[0m                                 Traceback (most recent call last)",
      "\u001b[1;32m~\\AppData\\Local\\Temp/ipykernel_19840/2949851619.py\u001b[0m in \u001b[0;36m<module>\u001b[1;34m\u001b[0m\n\u001b[1;32m----> 1\u001b[1;33m \u001b[0mtrain_predictions_baseline\u001b[0m \u001b[1;33m=\u001b[0m \u001b[0mmodelG\u001b[0m\u001b[1;33m.\u001b[0m\u001b[0mpredict\u001b[0m\u001b[1;33m(\u001b[0m\u001b[0mX_train\u001b[0m\u001b[1;33m,\u001b[0m \u001b[0mbatch_size\u001b[0m\u001b[1;33m=\u001b[0m\u001b[0mBATCH_SIZE\u001b[0m\u001b[1;33m)\u001b[0m\u001b[1;33m\u001b[0m\u001b[1;33m\u001b[0m\u001b[0m\n\u001b[0m\u001b[0;32m      2\u001b[0m \u001b[0mtest_predictions_baseline\u001b[0m \u001b[1;33m=\u001b[0m \u001b[0mmodelG\u001b[0m\u001b[1;33m.\u001b[0m\u001b[0mpredict\u001b[0m\u001b[1;33m(\u001b[0m\u001b[0mX_test\u001b[0m\u001b[1;33m,\u001b[0m \u001b[0mbatch_size\u001b[0m\u001b[1;33m=\u001b[0m\u001b[0mBATCH_SIZE\u001b[0m\u001b[1;33m)\u001b[0m\u001b[1;33m\u001b[0m\u001b[1;33m\u001b[0m\u001b[0m\n",
      "\u001b[1;31mNameError\u001b[0m: name 'modelG' is not defined"
     ]
    }
   ],
   "source": [
    "train_predictions_baseline = modelG.predict(X_train, batch_size=BATCH_SIZE)\n",
    "test_predictions_baseline = modelG.predict(X_test, batch_size=BATCH_SIZE)"
   ]
  },
  {
   "cell_type": "code",
   "execution_count": null,
   "metadata": {
    "scrolled": false
   },
   "outputs": [],
   "source": [
    "baseline_results = modelG.evaluate(X_test, y_test,\n",
    "                                  batch_size=BATCH_SIZE, verbose=0)\n",
    "for name, value in zip(modelG.metrics_names, baseline_results):\n",
    "    print(name, ': ', value)\n",
    "print()\n",
    "\n",
    "plot_cm(y_test, test_predictions_baseline)"
   ]
  },
  {
   "cell_type": "markdown",
   "metadata": {},
   "source": [
    "The ROC plot shows at a glance the range of performance the model can reach just by tuning the output threshold."
   ]
  },
  {
   "cell_type": "code",
   "execution_count": 126,
   "metadata": {
    "scrolled": false
   },
   "outputs": [
    {
     "ename": "NameError",
     "evalue": "name 'train_predictions_baseline' is not defined",
     "output_type": "error",
     "traceback": [
      "\u001b[1;31m---------------------------------------------------------------------------\u001b[0m",
      "\u001b[1;31mNameError\u001b[0m                                 Traceback (most recent call last)",
      "\u001b[1;32m~\\AppData\\Local\\Temp/ipykernel_19840/1212129470.py\u001b[0m in \u001b[0;36m<module>\u001b[1;34m\u001b[0m\n\u001b[1;32m----> 1\u001b[1;33m \u001b[0mplot_roc\u001b[0m\u001b[1;33m(\u001b[0m\u001b[1;34m\"Train Baseline\"\u001b[0m\u001b[1;33m,\u001b[0m \u001b[0my_train\u001b[0m\u001b[1;33m,\u001b[0m \u001b[0mtrain_predictions_baseline\u001b[0m\u001b[1;33m,\u001b[0m \u001b[0mcolor\u001b[0m\u001b[1;33m=\u001b[0m\u001b[0mcolors\u001b[0m\u001b[1;33m[\u001b[0m\u001b[1;36m0\u001b[0m\u001b[1;33m]\u001b[0m\u001b[1;33m)\u001b[0m\u001b[1;33m\u001b[0m\u001b[1;33m\u001b[0m\u001b[0m\n\u001b[0m\u001b[0;32m      2\u001b[0m \u001b[0mplot_roc\u001b[0m\u001b[1;33m(\u001b[0m\u001b[1;34m\"Test Baseline\"\u001b[0m\u001b[1;33m,\u001b[0m \u001b[0my_test\u001b[0m\u001b[1;33m,\u001b[0m \u001b[0mtest_predictions_baseline\u001b[0m\u001b[1;33m,\u001b[0m \u001b[0mcolor\u001b[0m\u001b[1;33m=\u001b[0m\u001b[0mcolors\u001b[0m\u001b[1;33m[\u001b[0m\u001b[1;36m0\u001b[0m\u001b[1;33m]\u001b[0m\u001b[1;33m,\u001b[0m \u001b[0mlinestyle\u001b[0m\u001b[1;33m=\u001b[0m\u001b[1;34m'--'\u001b[0m\u001b[1;33m)\u001b[0m\u001b[1;33m\u001b[0m\u001b[1;33m\u001b[0m\u001b[0m\n\u001b[0;32m      3\u001b[0m \u001b[0mplt\u001b[0m\u001b[1;33m.\u001b[0m\u001b[0mlegend\u001b[0m\u001b[1;33m(\u001b[0m\u001b[0mloc\u001b[0m\u001b[1;33m=\u001b[0m\u001b[1;34m'lower right'\u001b[0m\u001b[1;33m)\u001b[0m\u001b[1;33m\u001b[0m\u001b[1;33m\u001b[0m\u001b[0m\n",
      "\u001b[1;31mNameError\u001b[0m: name 'train_predictions_baseline' is not defined"
     ]
    }
   ],
   "source": [
    "plot_roc(\"Train Baseline\", y_train, train_predictions_baseline, color=colors[0])\n",
    "plot_roc(\"Test Baseline\", y_test, test_predictions_baseline, color=colors[0], linestyle='--')\n",
    "plt.legend(loc='lower right')"
   ]
  },
  {
   "cell_type": "markdown",
   "metadata": {},
   "source": [
    "<!-- It looks like the precision is relatively high, but the recall and the area under the ROC curve (AUC) aren't as high as you might like. Classifiers often face challenges when trying to maximize both precision and recall, which is especially true when working with imbalanced datasets. It is important to consider the costs of different types of errors in the context of the problem you care about. In this example, a false negative (a fraudulent transaction is missed) may have a financial cost, while a false positive (a transaction is incorrectly flagged as fraudulent) may decrease user happiness. -->\n",
    "\n"
   ]
  },
  {
   "cell_type": "markdown",
   "metadata": {},
   "source": [
    "### 5.4. Add weights to class"
   ]
  },
  {
   "cell_type": "markdown",
   "metadata": {},
   "source": [
    "The goal is to identify churned customers, but you don't have very many of those positive samples to work with, so you would want to have the classifier heavily weight the few examples that are available. You can do this by passing Keras weights for each class through a parameter. These will cause the model to \"pay more attention\" to examples from an under-represented class."
   ]
  },
  {
   "cell_type": "code",
   "execution_count": 124,
   "metadata": {},
   "outputs": [
    {
     "name": "stdout",
     "output_type": "stream",
     "text": [
      "Weight for class 0: 0.63\n",
      "Weight for class 1: 2.45\n"
     ]
    }
   ],
   "source": [
    "# Scaling by total/2 helps keep the loss to a similar magnitude.\n",
    "# The sum of the weights of all examples stays the same.\n",
    "total = count_retain+count_churn\n",
    "\n",
    "weight_for_0 = (1 / count_retain)*(total)/2.0 \n",
    "weight_for_1 = (1 / count_churn)*(total)/2.0\n",
    "\n",
    "class_weight = {0: weight_for_0, 1: weight_for_1}\n",
    "\n",
    "print('Weight for class 0: {:.2f}'.format(weight_for_0))\n",
    "print('Weight for class 1: {:.2f}'.format(weight_for_1))"
   ]
  },
  {
   "cell_type": "markdown",
   "metadata": {},
   "source": [
    "Now we try re-training and evaluating the model with weighted class to see how that affects the predictions."
   ]
  },
  {
   "cell_type": "markdown",
   "metadata": {},
   "source": [
    "## Exercise 7:\n",
    "\n",
    "1. Build `weighted_model` using the `initial_weights` above without changing the `output` layer bias.\n",
    "2. Assign the training of `weighted_model` to `weighted_history`. Don't forget to add `early_stopping` to your `callbacks`. Assign values to `class_weight`. \n",
    "3. Use `plot_metrics` on `weighted_history`\n",
    "4. Use `weighted_model` to predict both on `X_train` and `X_test`\n",
    "5. Evaluate `weighted_model` and assign result to `weighted_results`"
   ]
  },
  {
   "cell_type": "code",
   "execution_count": null,
   "metadata": {},
   "outputs": [],
   "source": [
    "# SC\n",
    "\n",
    "# 1. \n",
    "... = build_model()\n",
    "....load_weights(initial_weights)\n",
    "\n",
    "# 2. \n",
    "... = ....fit(\n",
    "    X_train,\n",
    "    y_train,\n",
    "    batch_size=BATCH_SIZE,\n",
    "    epochs=EPOCHS,\n",
    "    callbacks = [...],\n",
    "    validation_data=(X_val, y_val),\n",
    "    # The class weights go here\n",
    "    class_weight=class_weight) \n",
    "\n",
    "# 3. \n",
    "plot_metrics(...)\n",
    "\n",
    "# 4. \n",
    "train_predictions_weighted = ....predict(X_train, batch_size=BATCH_SIZE)\n",
    "test_predictions_weighted = ....predict(X_test, batch_size=BATCH_SIZE)\n",
    "\n",
    "# 5. \n",
    "... = ....evaluate(X_test, y_test, batch_size=BATCH_SIZE, verbose=0)"
   ]
  },
  {
   "cell_type": "code",
   "execution_count": null,
   "metadata": {},
   "outputs": [],
   "source": [
    "for name, value in zip(weighted_model.metrics_names, weighted_results): \n",
    "    print(name, ': ', value)\n",
    "print()"
   ]
  },
  {
   "cell_type": "code",
   "execution_count": null,
   "metadata": {},
   "outputs": [],
   "source": [
    "plt.clf()\n",
    "plot_cm(y_test, test_predictions_weighted)\n"
   ]
  },
  {
   "cell_type": "markdown",
   "metadata": {},
   "source": [
    "<!-- Here you can see that with weighted class, the accuracy and precision are lower because there are more false positives, but conversely the recall and AUC are higher because the model also found more true positives. Despite having lower accuracy, this model has higher recall (and identifies more fraudulent transactions). Of course, there is a cost to both types of error (you wouldn't want to bug users by flagging too many legitimate transactions as fraudulent, either). Carefully consider the trade offs between these different types of errors for your application. -->"
   ]
  },
  {
   "cell_type": "markdown",
   "metadata": {},
   "source": [
    "### 5.5. Regularization\n",
    "\n",
    "#### 5.5.1. L1 and L2 Regularization\n",
    "A model is simple if  the distribution of parameter values has **`less entropy`**. This is achieved by having **`fewer parameters`**. Another way to mitigate overfitting is to put constraints on the weights to take only small values, making its value distribution **`more regular`**. This is called **`weight regularization`**. We penalize the network for having large weights. \n",
    "\n",
    "- **`L1 regularization`**: The cost added is proportional to the absolute value of the weight coefficients (the `L1 norm` of the weights).\n",
    "- **`L2 regularization`**: The cost added is proportional to the square of the value of the weight coefficients (the `L2 norm or weight decay`). "
   ]
  },
  {
   "cell_type": "code",
   "execution_count": null,
   "metadata": {},
   "outputs": [],
   "source": [
    "# assign L1 regularizer\n",
    "L1_reg = regularizers.l1(0.001) \n",
    "\n",
    "# assign L1 regularizer\n",
    "L2_reg = regularizers.l2(0.001) \n",
    "\n",
    "# OR assign L1 and L2 regularizer simultaneously\n",
    "L1L2_reg = regularizers.l1_l2(l1=0.001, l2=0.001)"
   ]
  },
  {
   "cell_type": "markdown",
   "metadata": {},
   "source": [
    "Let's compare the difference in `val_loss` for both baseline and regularized `modelA`. "
   ]
  },
  {
   "cell_type": "code",
   "execution_count": null,
   "metadata": {
    "scrolled": true
   },
   "outputs": [],
   "source": [
    " # Instantiate modelA\n",
    "modelA_L2 = keras.Sequential([\n",
    "    tf.keras.layers.Dense(4, kernel_regularizer = L2_reg, activation='relu', input_shape=[len(X_train[0])]),\n",
    "    tf.keras.layers.Dense(4, kernel_regularizer = L2_reg, activation='relu'),\n",
    "    tf.keras.layers.Dense(1,   activation='sigmoid')\n",
    "        \n",
    "  ])\n",
    "\n",
    "# Compile modelA\n",
    "modelA_L2.compile(loss='binary_crossentropy',\n",
    "              optimizer='adam',\n",
    "              metrics=['accuracy'])\n",
    "\n",
    "# Train modelA\n",
    "historyA_L2 = modelA_L2.fit(X_train, y_train,\n",
    "                    epochs=20, \n",
    "                    validation_split = 0.2,  \n",
    "                    verbose=1)"
   ]
  },
  {
   "cell_type": "code",
   "execution_count": null,
   "metadata": {
    "scrolled": true
   },
   "outputs": [],
   "source": [
    "# Print the model summary\n",
    "modelA_L2.summary()"
   ]
  },
  {
   "cell_type": "code",
   "execution_count": null,
   "metadata": {},
   "outputs": [],
   "source": [
    "compareValLoss(historyA, historyA_L2, 'modelA', 'modelA L2 Regularized')"
   ]
  },
  {
   "cell_type": "markdown",
   "metadata": {},
   "source": [
    "We observed that with L2 regularization, validation improved compared to the baseline model. "
   ]
  },
  {
   "cell_type": "markdown",
   "metadata": {},
   "source": [
    "#### 5.5.2. Adding Drop-out Layer\n",
    "\n",
    "Dropout, applied to a layer, consists of randomly dropping out (setting to zero) a number of output features of the layer during training.\n",
    "\n",
    "We want units to be independently extract features from their inputs instead of relying on other neurons to do so. Suppose we have a multilayered feedforward network like this one, the yellow hidden units in the middle layer may co-adapt.  Subsets of units in a layer is randomly selected and pruned by clamping their output to zero.  This effectively removes those units from the model. A different subset of units is randomly selected every time we present a training example.\n",
    "\n",
    "Below are two possible network configurations. On the first presentation (left), the 1st and 3rd units are disabled, but the 2nd and 3rd units have been randomly selected on a subsequent presentation. "
   ]
  },
  {
   "cell_type": "markdown",
   "metadata": {},
   "source": [
    "<img src=\"./images/nn_dropout.png\" style=\"height: 200px;\" align=left> "
   ]
  },
  {
   "cell_type": "markdown",
   "metadata": {},
   "source": [
    "This image was accessed from [StackExchange](https://stats.stackexchange.com/questions/201569/what-is-the-difference-between-dropout-and-drop-connect?noredirect=1&lq=1)."
   ]
  },
  {
   "cell_type": "code",
   "execution_count": null,
   "metadata": {
    "scrolled": true
   },
   "outputs": [],
   "source": [
    " # Instantiate modelA\n",
    "modelA_dropout = tf.keras.Sequential([\n",
    "    tf.keras.layers.Dense(4, activation='relu', input_shape=[len(X_train[0])]),\n",
    "    tf.keras.layers.Dropout(0.1),\n",
    "    tf.keras.layers.Dense(4, activation='relu'),\n",
    "    tf.keras.layers.Dropout(0.1),\n",
    "    tf.keras.layers.Dense(1,   activation='sigmoid')\n",
    "        \n",
    "  ])\n",
    "\n",
    "# Compile modelA\n",
    "modelA_dropout.compile(loss='binary_crossentropy',\n",
    "              optimizer='adam',\n",
    "              metrics=['accuracy'])\n",
    "\n",
    "# Train modelA\n",
    "historyA_dropout = modelA_dropout.fit(X_train, y_train,\n",
    "                    epochs=20, \n",
    "                    validation_split = 0.2,  \n",
    "                    verbose=1)"
   ]
  },
  {
   "cell_type": "code",
   "execution_count": null,
   "metadata": {
    "scrolled": true
   },
   "outputs": [],
   "source": [
    "# Print the model summary\n",
    "modelA_dropout.summary()"
   ]
  },
  {
   "cell_type": "code",
   "execution_count": null,
   "metadata": {},
   "outputs": [],
   "source": [
    "compareValLoss(historyA, historyA_dropout, 'modelA', 'modelA Dropout Regularized')"
   ]
  },
  {
   "cell_type": "markdown",
   "metadata": {},
   "source": [
    "### 5.6. Configuring Learning Rates\n",
    "\n",
    "Shown below how the learning rate can be configured. \n",
    "\n",
    "```python\n",
    "\n",
    "optimizer = tf.keras.optimizers.Adam( learning_rate=0.001 )\n",
    "\n",
    "```"
   ]
  },
  {
   "cell_type": "markdown",
   "metadata": {},
   "source": [
    "## Exercise 8:\n",
    "\n",
    "1. Use `ModelA` and use the `optimizer` above. However, use `epochs=5`. \n",
    "2. Vary the step-size as: `learning_rate=0.0001`, `learning_rate=0.01`, `learning_rate=0.8`. Compile the model and assign names to history as `historyA_LRsmall`, `historyA_LRmid`, `historyA_LRbig`, respectively. \n"
   ]
  },
  {
   "cell_type": "code",
   "execution_count": 128,
   "metadata": {},
   "outputs": [
    {
     "name": "stdout",
     "output_type": "stream",
     "text": [
      "Epoch 1/20\n",
      "64/64 [==============================] - 2s 20ms/step - loss: 1.3123 - accuracy: 0.6934 - val_loss: 0.8293 - val_accuracy: 0.7856\n",
      "Epoch 2/20\n",
      "64/64 [==============================] - 0s 5ms/step - loss: 0.6807 - accuracy: 0.7445 - val_loss: 0.5979 - val_accuracy: 0.7856\n",
      "Epoch 3/20\n",
      "64/64 [==============================] - 0s 4ms/step - loss: 0.6324 - accuracy: 0.7559 - val_loss: 0.8299 - val_accuracy: 0.3756\n",
      "Epoch 4/20\n",
      "64/64 [==============================] - 0s 8ms/step - loss: 0.6171 - accuracy: 0.7603 - val_loss: 0.8059 - val_accuracy: 0.7856\n",
      "Epoch 5/20\n",
      "64/64 [==============================] - ETA: 0s - loss: 0.7069 - accuracy: 0.73 - 0s 7ms/step - loss: 0.6807 - accuracy: 0.7473 - val_loss: 0.5607 - val_accuracy: 0.7856\n",
      "Epoch 6/20\n",
      "64/64 [==============================] - 1s 12ms/step - loss: 0.5593 - accuracy: 0.7937 - val_loss: 0.5840 - val_accuracy: 0.7856\n",
      "Epoch 7/20\n",
      "64/64 [==============================] - 0s 5ms/step - loss: 0.5567 - accuracy: 0.7856 - val_loss: 0.5385 - val_accuracy: 0.7856\n",
      "Epoch 8/20\n",
      "64/64 [==============================] - 0s 5ms/step - loss: 0.5754 - accuracy: 0.7866 - val_loss: 0.5668 - val_accuracy: 0.7856\n",
      "Epoch 9/20\n",
      "64/64 [==============================] - 0s 5ms/step - loss: 0.5720 - accuracy: 0.7877 - val_loss: 0.5596 - val_accuracy: 0.7856\n",
      "Epoch 10/20\n",
      "64/64 [==============================] - 0s 5ms/step - loss: 0.5484 - accuracy: 0.7948 - val_loss: 0.5394 - val_accuracy: 0.7856\n",
      "Epoch 11/20\n",
      "64/64 [==============================] - 0s 6ms/step - loss: 0.5661 - accuracy: 0.7878 - val_loss: 0.5669 - val_accuracy: 0.7856\n",
      "Epoch 12/20\n",
      "64/64 [==============================] - 0s 5ms/step - loss: 0.5472 - accuracy: 0.7964 - val_loss: 0.5585 - val_accuracy: 0.7856\n",
      "Epoch 13/20\n",
      "64/64 [==============================] - 0s 5ms/step - loss: 0.5405 - accuracy: 0.7959 - val_loss: 0.5504 - val_accuracy: 0.7856\n",
      "Epoch 14/20\n",
      "64/64 [==============================] - 0s 5ms/step - loss: 0.5385 - accuracy: 0.7964 - val_loss: 0.5668 - val_accuracy: 0.7856\n",
      "Epoch 15/20\n",
      "64/64 [==============================] - 0s 4ms/step - loss: 0.5406 - accuracy: 0.7964 - val_loss: 0.5533 - val_accuracy: 0.7856\n",
      "Epoch 16/20\n",
      "64/64 [==============================] - 0s 5ms/step - loss: 0.5458 - accuracy: 0.7917 - val_loss: 0.5621 - val_accuracy: 0.7856\n",
      "Epoch 17/20\n",
      "64/64 [==============================] - 0s 7ms/step - loss: 0.5362 - accuracy: 0.7964 - val_loss: 0.5310 - val_accuracy: 0.7856\n",
      "Epoch 18/20\n",
      "64/64 [==============================] - 0s 6ms/step - loss: 0.5331 - accuracy: 0.7964 - val_loss: 0.5368 - val_accuracy: 0.7856\n",
      "Epoch 19/20\n",
      "64/64 [==============================] - 0s 6ms/step - loss: 0.5235 - accuracy: 0.7964 - val_loss: 0.5316 - val_accuracy: 0.7856\n",
      "Epoch 20/20\n",
      "64/64 [==============================] - 0s 5ms/step - loss: 0.5221 - accuracy: 0.7964 - val_loss: 0.5349 - val_accuracy: 0.7856\n"
     ]
    }
   ],
   "source": [
    "# SC\n",
    " \n",
    "optimizer = tf.keras.optimizers.Adam( learning_rate=0.001 )\n",
    "\n",
    "# Compile modelA\n",
    "modelA.compile(loss='binary_crossentropy',\n",
    "              optimizer='adam',\n",
    "              metrics=['accuracy'])\n",
    "\n",
    "# Train modelA\n",
    "historyA_LRsmall = modelA.fit(X_train, y_train,\n",
    "                    epochs=20, \n",
    "                    batch_size=100,\n",
    "                    validation_data=(X_val, y_val), \n",
    "                    verbose=1,\n",
    "                    callbacks=[tensorboard_callbackA])\n"
   ]
  },
  {
   "cell_type": "code",
   "execution_count": null,
   "metadata": {},
   "outputs": [],
   "source": [
    "# SC\n",
    "optimizer = ...\n",
    "\n",
    "# Compile modelA\n",
    "modelA.compile(loss='binary_crossentropy',\n",
    "              optimizer=...,\n",
    "              metrics=['accuracy'])\n",
    "\n",
    "\n",
    "# Train modelA\n",
    "historyA_LRmid = modelA.fit(X_train, y_train,\n",
    "                    epochs=..., \n",
    "                    batch_size=100,\n",
    "                    validation_data=(X_val, y_val), \n",
    "                    verbose=1,\n",
    "                    callbacks=[tensorboard_callbackA])"
   ]
  },
  {
   "cell_type": "code",
   "execution_count": null,
   "metadata": {},
   "outputs": [],
   "source": [
    "# SC\n",
    "optimizer = ...\n",
    "\n",
    "# Compile modelA\n",
    "modelA.compile(loss='binary_crossentropy',\n",
    "              optimizer=...,\n",
    "              metrics=['accuracy'])\n",
    "\n",
    "\n",
    "# Train modelA\n",
    "historyA_LRbig = modelA.fit(X_train, y_train,\n",
    "                    epochs=..., \n",
    "                    batch_size=100,\n",
    "                    validation_data=(X_val, y_val), \n",
    "                    verbose=1,\n",
    "                    callbacks=[tensorboard_callbackA])"
   ]
  },
  {
   "cell_type": "markdown",
   "metadata": {},
   "source": [
    "# References\n",
    "\n",
    "Majority of discussions are based from \"Deep Learning with Python\" by François  Chollet. <br>\n",
    "However, contents are modified to accommodate Keras in Tensorflow 2.0 Backend. <br>\n",
    "Images ours, unless otherwise specified. \n",
    "\n",
    "1. \"True vs. False and Positive vs. Negative\". Machine Learning Crash Course. Feb 10, 2020.  https://developers.google.com/machine-learning/crash-course/classification/true-false-positive-negative. Accessed 12 April 2020.\n",
    "1. \"Accuracy\". Machine Learning Crash Course. Feb 10, 2020. https://developers.google.com/machine-learning/crash-course/classification/accuracy. Accessed 12 April 2020.\n",
    "\n",
    "1. \"Precision and Recall\". Machine Learning Crash Course. Feb 10, 2020.  https://developers.google.com/machine-learning/crash-course/classification/precision-and-recall. Accessed 12 April 2020.\n",
    "\n",
    "1. \"ROC-AUC\". Machine Learning Crash Course. Feb 10, 2020.   https://developers.google.com/machine-learning/crash-course/classification/roc-and-auc. Accessed 12 April 2020.\n",
    "\n",
    "1. \"Classification on imbalanced data.\" Tensorflow. Apr 04, 2020,  https://www.tensorflow.org/tutorials/structured_data/imbalanced_data. Accessed 12 April 2020.\n",
    "\n",
    "1. Karpathy, Andrej. \"A Recipe for Training Neural Networks.\" Andrej Karpathy blog, Apr 25, 2019, http://karpathy.github.io/2019/04/25/recipe/#2-set-up-the-end-to-end-trainingevaluation-skeleton--get-dumb-baselines. Accessed 12 April 2020.\n",
    "\n",
    "1. Chollet, François. Deep Learning with Python. Manning, 2018."
   ]
  },
  {
   "cell_type": "code",
   "execution_count": null,
   "metadata": {},
   "outputs": [],
   "source": []
  }
 ],
 "metadata": {
  "kernelspec": {
   "display_name": "Python 3 (ipykernel)",
   "language": "python",
   "name": "python3"
  },
  "language_info": {
   "codemirror_mode": {
    "name": "ipython",
    "version": 3
   },
   "file_extension": ".py",
   "mimetype": "text/x-python",
   "name": "python",
   "nbconvert_exporter": "python",
   "pygments_lexer": "ipython3",
   "version": "3.9.6"
  }
 },
 "nbformat": 4,
 "nbformat_minor": 2
}
